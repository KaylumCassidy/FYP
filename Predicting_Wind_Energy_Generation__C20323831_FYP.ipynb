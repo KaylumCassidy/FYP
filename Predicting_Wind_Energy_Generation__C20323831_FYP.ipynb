{
  "cells": [
    {
      "cell_type": "markdown",
      "metadata": {
        "id": "view-in-github",
        "colab_type": "text"
      },
      "source": [
        "<a href=\"https://colab.research.google.com/github/KaylumCassidy/FYP/blob/main/Predicting_Wind_Energy_Generation__C20323831_FYP.ipynb\" target=\"_parent\"><img src=\"https://colab.research.google.com/assets/colab-badge.svg\" alt=\"Open In Colab\"/></a>"
      ]
    },
    {
      "cell_type": "markdown",
      "metadata": {
        "id": "hhDr6JFXYVNa"
      },
      "source": [
        "# **Predicting wind energy generation to enable transmission system operator (TSO) supply planning.**"
      ]
    },
    {
      "cell_type": "markdown",
      "metadata": {
        "id": "1uFQfoDRYxW-"
      },
      "source": [
        "This dissertation focuses on using high-frequency short-term weather forecasting to predict wind production in Ireland. The aim is to prepare microgrid control systems for periods of low wind power generation, crucial for stabilizing the country's energy mix. Clear objectives include testing predictive analytical techniques, finding the most accurate model algorithm, determining influential weather variables, and validating against existing models"
      ]
    },
    {
      "cell_type": "markdown",
      "metadata": {
        "id": "p1Y2xADBY5Hm"
      },
      "source": [
        "## Irish weather data"
      ]
    },
    {
      "cell_type": "markdown",
      "metadata": {
        "id": "gHD3OzcQY-Ia"
      },
      "source": [
        "### Import libraries"
      ]
    },
    {
      "cell_type": "code",
      "execution_count": null,
      "metadata": {
        "colab": {
          "base_uri": "https://localhost:8080/"
        },
        "id": "r1Qm2AmyYw87",
        "outputId": "679d22d1-754a-4c5e-ca4e-b72734d3ff83"
      },
      "outputs": [
        {
          "data": {
            "text/html": [
              "        <script type=\"text/javascript\">\n",
              "        window.PlotlyConfig = {MathJaxConfig: 'local'};\n",
              "        if (window.MathJax && window.MathJax.Hub && window.MathJax.Hub.Config) {window.MathJax.Hub.Config({SVG: {font: \"STIX-Web\"}});}\n",
              "        if (typeof require !== 'undefined') {\n",
              "        require.undef(\"plotly\");\n",
              "        requirejs.config({\n",
              "            paths: {\n",
              "                'plotly': ['https://cdn.plot.ly/plotly-2.24.1.min']\n",
              "            }\n",
              "        });\n",
              "        require(['plotly'], function(Plotly) {\n",
              "            window._Plotly = Plotly;\n",
              "        });\n",
              "        }\n",
              "        </script>\n",
              "        "
            ]
          },
          "metadata": {},
          "output_type": "display_data"
        }
      ],
      "source": [
        "# This Python 3 environment comes with many helpful analytics libraries installed\n",
        "# It is defined by the kaggle/python docker image: https://github.com/kaggle/docker-python\n",
        "# For example, here's several helpful packages to load in\n",
        "\n",
        "import numpy as np # linear algebra\n",
        "import pandas as pd # data processing, CSV file I/O (e.g. pd.read_csv)\n",
        "\n",
        "import io\n",
        "import requests\n",
        "\n",
        "import plotly.offline as py\n",
        "py.init_notebook_mode(connected=True)\n",
        "import plotly.graph_objs as go\n",
        "from plotly import tools\n",
        "import plotly.figure_factory as ff\n",
        "from plotly.subplots import make_subplots\n",
        "\n",
        "import warnings\n",
        "warnings.filterwarnings('ignore')\n",
        "\n",
        "import matplotlib.pyplot as plt\n",
        "plt.style.use('seaborn-whitegrid')\n",
        "\n",
        "from datetime import tzinfo, timedelta, datetime\n",
        "minDate = \"2017-01-01 00:00:00\""
      ]
    },
    {
      "cell_type": "code",
      "execution_count": null,
      "metadata": {
        "colab": {
          "base_uri": "https://localhost:8080/"
        },
        "id": "TL3mxIgxacF7",
        "outputId": "24e7b0d0-7b8d-4eb2-809e-077c43e2a8bd"
      },
      "outputs": [
        {
          "data": {
            "text/html": [
              "        <script type=\"text/javascript\">\n",
              "        window.PlotlyConfig = {MathJaxConfig: 'local'};\n",
              "        if (window.MathJax && window.MathJax.Hub && window.MathJax.Hub.Config) {window.MathJax.Hub.Config({SVG: {font: \"STIX-Web\"}});}\n",
              "        if (typeof require !== 'undefined') {\n",
              "        require.undef(\"plotly\");\n",
              "        requirejs.config({\n",
              "            paths: {\n",
              "                'plotly': ['https://cdn.plot.ly/plotly-2.24.1.min']\n",
              "            }\n",
              "        });\n",
              "        require(['plotly'], function(Plotly) {\n",
              "            window._Plotly = Plotly;\n",
              "        });\n",
              "        }\n",
              "        </script>\n",
              "        "
            ]
          },
          "metadata": {},
          "output_type": "display_data"
        }
      ],
      "source": [
        "  # This Python 3 environment comes with many helpful analytics libraries installed\n",
        "  # It is defined by the kaggle/python docker image: https://github.com/kaggle/docker-python\n",
        "  # For example, here's several helpful packages to load in\n",
        "\n",
        "  import numpy as np # linear algebra\n",
        "  import pandas as pd # data processing, CSV file I/O (e.g. pd.read_csv)\n",
        "\n",
        "  import io\n",
        "  import requests\n",
        "\n",
        "  import plotly.offline as py\n",
        "  py.init_notebook_mode(connected=True)\n",
        "  import plotly.graph_objs as go\n",
        "  from plotly import tools\n",
        "  import plotly.figure_factory as ff\n",
        "  from plotly.subplots import make_subplots\n",
        "\n",
        "  import warnings\n",
        "  warnings.filterwarnings('ignore')\n",
        "\n",
        "  import matplotlib.pyplot as plt\n",
        "  plt.style.use('seaborn-whitegrid')\n",
        "\n",
        "  from datetime import tzinfo, timedelta, datetime, date"
      ]
    },
    {
      "cell_type": "code",
      "execution_count": null,
      "metadata": {
        "id": "Si3x62gUahPf"
      },
      "outputs": [],
      "source": [
        "minDate = \"2017-01-01 00:00:00\""
      ]
    },
    {
      "cell_type": "markdown",
      "metadata": {
        "id": "GmXvHc8SZH7y"
      },
      "source": [
        "### Loading MerEire dataset 2017-2023"
      ]
    },
    {
      "cell_type": "markdown",
      "metadata": {
        "id": "TBh4ba5wZYyj"
      },
      "source": [
        "This dataset is from MetEire website form 2017-2023 I choose 7 weather station(Dublin Airport, Shannon Airport, Mayo, Donegal, Galway, Cork) each recroding every hour of evvery day. (Dataset colm meaning in photo below)"
      ]
    },
    {
      "cell_type": "markdown",
      "metadata": {
        "id": "5duBp89JaJUS"
      },
      "source": [
        "![image.png](data:image/png;base64,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)![image.png]()"
      ]
    },
    {
      "cell_type": "markdown",
      "metadata": {
        "id": "sRYrvaCyaUHn"
      },
      "source": [
        "**CORK**"
      ]
    },
    {
      "cell_type": "code",
      "execution_count": null,
      "metadata": {
        "colab": {
          "base_uri": "https://localhost:8080/"
        },
        "id": "e0Vr-23TZYLi",
        "outputId": "d1e4729d-7140-4ab3-9793-ef14b6ae4ed4"
      },
      "outputs": [
        {
          "name": "stdout",
          "output_type": "stream",
          "text": [
            "Index(['date', 'ind', 'rain', 'ind.1', 'temp', 'ind.2', 'wetb', 'dewpt',\n",
            "       'vappr', 'rhum', 'msl', 'ind.3', 'wdsp', 'ind.4', 'wddir', 'ww', 'w',\n",
            "       'sun', 'vis', 'clht', 'clamt'],\n",
            "      dtype='object')\n"
          ]
        }
      ],
      "source": [
        "import pandas as pd\n",
        "import requests\n",
        "from io import StringIO\n",
        "\n",
        "github_raw_url = 'https://raw.githubusercontent.com/KaylumCassidy/FYP/main/CorkAirport.csv'\n",
        "\n",
        "# Fetch the content of the file\n",
        "response = requests.get(github_raw_url)\n",
        "s = response.content\n",
        "\n",
        "# Read the CSV file into a pandas DataFrame\n",
        "corkairportds = pd.read_csv(StringIO(s.decode('utf-8')))\n",
        "\n",
        "# Display the column names\n",
        "print(corkairportds.columns)\n",
        "\n",
        "# Convert the 'date' column to datetime format\n",
        "corkairportds['date'] = pd.to_datetime(corkairportds['date'], format='%d/%m/%Y %H:%M', errors='ignore')\n",
        "\n",
        "# Fix the 'wdsp' column with space value\n",
        "corkairportds['wdsp'].replace(to_replace=' ', value=0, inplace=True)\n",
        "corkairportds['wdsp'] = corkairportds['wdsp'].astype('float32')  # Change to float if necessary\n",
        "\n",
        "# Replace \"your_min_date_here\" with an actual minimum date in the correct format\n",
        "minDate = pd.to_datetime('01/01/2017 00:00', format='%d/%m/%Y %H:%M')  # Adjust the date and format as needed\n",
        "\n",
        "# Reduce the timeframe\n",
        "corkairportds = corkairportds[corkairportds['date'] >= minDate]\n",
        "\n"
      ]
    },
    {
      "cell_type": "markdown",
      "metadata": {
        "id": "0vj0SDWLamcO"
      },
      "source": [
        "**Shannon Airport**"
      ]
    },
    {
      "cell_type": "code",
      "execution_count": null,
      "metadata": {
        "colab": {
          "base_uri": "https://localhost:8080/"
        },
        "id": "F-5lQ57GaqUm",
        "outputId": "aadbdc6c-6b32-4873-8019-42e63f3129a1"
      },
      "outputs": [
        {
          "name": "stdout",
          "output_type": "stream",
          "text": [
            "Index(['date', 'ind', 'rain', 'ind.1', 'temp', 'ind.2', 'wetb', 'dewpt',\n",
            "       'vappr', 'rhum', 'msl', 'ind.3', 'wdsp', 'ind.4', 'wddir', 'ww', 'w',\n",
            "       'sun', 'vis', 'clht', 'clamt'],\n",
            "      dtype='object')\n"
          ]
        }
      ],
      "source": [
        "import pandas as pd\n",
        "import requests\n",
        "from io import StringIO\n",
        "\n",
        "github_raw_url = 'https://raw.githubusercontent.com/KaylumCassidy/FYP/main/ShannonAirport.csv'\n",
        "\n",
        "# Fetch the content of the file\n",
        "response = requests.get(github_raw_url)\n",
        "s = response.content\n",
        "\n",
        "# Read the CSV file into a pandas DataFrame\n",
        "shannonAirport = pd.read_csv(StringIO(s.decode('utf-8')))\n",
        "\n",
        "# Display the column names\n",
        "print(shannonAirport.columns)\n",
        "\n",
        "# Convert the 'date' column to datetime format\n",
        "shannonAirport['date'] = pd.to_datetime(shannonAirport['date'], format='%d/%m/%Y %H:%M', errors='ignore')\n",
        "\n",
        "# Fix the 'wdsp' column with space value\n",
        "shannonAirport['wdsp'].replace(to_replace=' ', value=0, inplace=True)\n",
        "shannonAirport['wdsp'] = shannonAirport['wdsp'].astype('float32')  # Change to float if necessary\n",
        "\n",
        "# Replace \"your_min_date_here\" with an actual minimum date in the correct format\n",
        "minDate = pd.to_datetime('01/01/2017 00:00', format='%d/%m/%Y %H:%M')  # Adjust the date and format as needed\n",
        "\n",
        "# Reduce the timeframe\n",
        "shannonAirport = shannonAirport[shannonAirport['date'] >= minDate]\n",
        "\n"
      ]
    },
    {
      "cell_type": "markdown",
      "metadata": {
        "id": "1hAV1o21as7L"
      },
      "source": [
        "**Galway**"
      ]
    },
    {
      "cell_type": "code",
      "execution_count": null,
      "metadata": {
        "colab": {
          "base_uri": "https://localhost:8080/"
        },
        "id": "ZSh8cnz2avMb",
        "outputId": "4ef05ce3-0c35-46bb-f681-398ce55a87a1"
      },
      "outputs": [
        {
          "name": "stdout",
          "output_type": "stream",
          "text": [
            "Index(['date', 'ind', 'rain', 'ind.1', 'temp', 'ind.2', 'wetb', 'dewpt',\n",
            "       'vappr', 'rhum', 'msl', 'ind.3', 'wdsp', 'ind.4', 'wddir'],\n",
            "      dtype='object')\n"
          ]
        }
      ],
      "source": [
        "import pandas as pd\n",
        "import requests\n",
        "from io import StringIO\n",
        "\n",
        "\n",
        "github_raw_url = 'https://raw.githubusercontent.com/KaylumCassidy/FYP/main/Galway.csv'\n",
        "\n",
        "# Fetch the content of the file\n",
        "response = requests.get(github_raw_url)\n",
        "s = response.content\n",
        "\n",
        "# Read the CSV file into a pandas DataFrame\n",
        "galway = pd.read_csv(StringIO(s.decode('utf-8')))\n",
        "\n",
        "# Display the column names\n",
        "print(galway.columns)\n",
        "\n",
        "# Convert the 'date' column to datetime format\n",
        "galway['date'] = pd.to_datetime(galway['date'], format='%d/%m/%Y %H:%M', errors='ignore')\n",
        "\n",
        "# Fix the 'wdsp' column with space value\n",
        "galway['wdsp'].replace(to_replace=' ', value=0, inplace=True)\n",
        "galway['wdsp'] = galway['wdsp'].astype('float32')  # Change to float if necessary\n",
        "\n",
        "# Replace \"your_min_date_here\" with an actual minimum date in the correct format\n",
        "minDate = pd.to_datetime('01/01/2017 00:00', format='%d/%m/%Y %H:%M')  # Adjust the date and format as needed\n",
        "\n",
        "# Reduce the timeframe\n",
        "galway = galway[galway['date'] >= minDate]\n",
        "\n"
      ]
    },
    {
      "cell_type": "markdown",
      "metadata": {
        "id": "VqZn1I3zazpq"
      },
      "source": [
        "**Dublin Airport**"
      ]
    },
    {
      "cell_type": "code",
      "execution_count": null,
      "metadata": {
        "colab": {
          "base_uri": "https://localhost:8080/"
        },
        "id": "2NUEcPxta3-7",
        "outputId": "3c5d6a3d-2537-4af6-bd2b-f3e306c13520"
      },
      "outputs": [
        {
          "name": "stdout",
          "output_type": "stream",
          "text": [
            "Index(['date', 'ind', 'rain', 'ind.1', 'temp', 'ind.2', 'wetb', 'dewpt',\n",
            "       'vappr', 'rhum', 'msl', 'ind.3', 'wdsp', 'ind.4', 'wddir', 'ww', 'w',\n",
            "       'sun', 'vis', 'clht', 'clamt'],\n",
            "      dtype='object')\n"
          ]
        }
      ],
      "source": [
        "import pandas as pd\n",
        "import requests\n",
        "from io import StringIO\n",
        "\n",
        "github_raw_url = 'https://raw.githubusercontent.com/KaylumCassidy/FYP/main/DublinAirport.csv'\n",
        "\n",
        "# Fetch the content of the file\n",
        "response = requests.get(github_raw_url)\n",
        "s = response.content\n",
        "\n",
        "# Read the CSV file into a pandas DataFrame\n",
        "dublinairportds = pd.read_csv(StringIO(s.decode('utf-8')))\n",
        "\n",
        "# Display the column names\n",
        "print(dublinairportds.columns)\n",
        "\n",
        "# Convert the 'date' column to datetime format\n",
        "dublinairportds['date'] = pd.to_datetime(dublinairportds['date'], format='%d/%m/%Y %H:%M', errors='ignore')\n",
        "\n",
        "# Fix the 'wdsp' column with space value\n",
        "dublinairportds['wdsp'].replace(to_replace=' ', value=0, inplace=True)\n",
        "dublinairportds['wdsp'] = dublinairportds['wdsp'].astype('float32')  # Change to float if necessary\n",
        "\n",
        "# Replace \"your_min_date_here\" with an actual minimum date in the correct format\n",
        "minDate = pd.to_datetime('01/01/2017 00:00', format='%d/%m/%Y %H:%M')  # Adjust the date and format as needed\n",
        "\n",
        "# Reduce the timeframe\n",
        "dublinairportds = dublinairportds[dublinairportds['date'] >= minDate]\n"
      ]
    },
    {
      "cell_type": "code",
      "execution_count": null,
      "metadata": {
        "colab": {
          "base_uri": "https://localhost:8080/",
          "height": 320
        },
        "id": "Aw20tFYta6Qp",
        "outputId": "f8b0b6bf-09eb-4a3f-ff49-53684f8759f3"
      },
      "outputs": [
        {
          "data": {
            "text/html": [
              "\n",
              "  <div id=\"df-95a4668a-aa3f-41d2-93c6-eac4d0ef11b6\" class=\"colab-df-container\">\n",
              "    <div>\n",
              "<style scoped>\n",
              "    .dataframe tbody tr th:only-of-type {\n",
              "        vertical-align: middle;\n",
              "    }\n",
              "\n",
              "    .dataframe tbody tr th {\n",
              "        vertical-align: top;\n",
              "    }\n",
              "\n",
              "    .dataframe thead th {\n",
              "        text-align: right;\n",
              "    }\n",
              "</style>\n",
              "<table border=\"1\" class=\"dataframe\">\n",
              "  <thead>\n",
              "    <tr style=\"text-align: right;\">\n",
              "      <th></th>\n",
              "      <th>ind</th>\n",
              "      <th>rain</th>\n",
              "      <th>ind.1</th>\n",
              "      <th>temp</th>\n",
              "      <th>ind.2</th>\n",
              "      <th>wetb</th>\n",
              "      <th>dewpt</th>\n",
              "      <th>vappr</th>\n",
              "      <th>rhum</th>\n",
              "      <th>msl</th>\n",
              "      <th>ind.3</th>\n",
              "      <th>wdsp</th>\n",
              "      <th>ind.4</th>\n",
              "      <th>wddir</th>\n",
              "      <th>ww</th>\n",
              "      <th>w</th>\n",
              "      <th>sun</th>\n",
              "      <th>clht</th>\n",
              "      <th>clamt</th>\n",
              "    </tr>\n",
              "  </thead>\n",
              "  <tbody>\n",
              "    <tr>\n",
              "      <th>count</th>\n",
              "      <td>61345.000000</td>\n",
              "      <td>61345.000000</td>\n",
              "      <td>61345.000000</td>\n",
              "      <td>61345.000000</td>\n",
              "      <td>61345.000000</td>\n",
              "      <td>61345.000000</td>\n",
              "      <td>61345.00000</td>\n",
              "      <td>61345.000000</td>\n",
              "      <td>61345.000000</td>\n",
              "      <td>61345.000000</td>\n",
              "      <td>61345.000000</td>\n",
              "      <td>61345.000000</td>\n",
              "      <td>61345.000000</td>\n",
              "      <td>61345.000000</td>\n",
              "      <td>61345.000000</td>\n",
              "      <td>61345.000000</td>\n",
              "      <td>61345.000000</td>\n",
              "      <td>61345.000000</td>\n",
              "      <td>61345.000000</td>\n",
              "    </tr>\n",
              "    <tr>\n",
              "      <th>mean</th>\n",
              "      <td>0.493765</td>\n",
              "      <td>0.087166</td>\n",
              "      <td>0.019594</td>\n",
              "      <td>10.113817</td>\n",
              "      <td>0.027614</td>\n",
              "      <td>8.597198</td>\n",
              "      <td>6.93634</td>\n",
              "      <td>10.400083</td>\n",
              "      <td>81.755172</td>\n",
              "      <td>1013.401697</td>\n",
              "      <td>2.000065</td>\n",
              "      <td>9.475866</td>\n",
              "      <td>2.000065</td>\n",
              "      <td>206.367919</td>\n",
              "      <td>14.756769</td>\n",
              "      <td>29.447388</td>\n",
              "      <td>0.169494</td>\n",
              "      <td>286.170055</td>\n",
              "      <td>5.583797</td>\n",
              "    </tr>\n",
              "    <tr>\n",
              "      <th>std</th>\n",
              "      <td>0.980092</td>\n",
              "      <td>0.420248</td>\n",
              "      <td>0.138602</td>\n",
              "      <td>5.062082</td>\n",
              "      <td>0.163866</td>\n",
              "      <td>4.457445</td>\n",
              "      <td>4.52180</td>\n",
              "      <td>3.173393</td>\n",
              "      <td>11.991678</td>\n",
              "      <td>12.671529</td>\n",
              "      <td>0.011420</td>\n",
              "      <td>4.681316</td>\n",
              "      <td>0.011420</td>\n",
              "      <td>81.329671</td>\n",
              "      <td>22.707006</td>\n",
              "      <td>26.964605</td>\n",
              "      <td>0.323256</td>\n",
              "      <td>401.147943</td>\n",
              "      <td>2.223360</td>\n",
              "    </tr>\n",
              "    <tr>\n",
              "      <th>min</th>\n",
              "      <td>0.000000</td>\n",
              "      <td>0.000000</td>\n",
              "      <td>0.000000</td>\n",
              "      <td>-5.600000</td>\n",
              "      <td>0.000000</td>\n",
              "      <td>-5.900000</td>\n",
              "      <td>-8.90000</td>\n",
              "      <td>3.100000</td>\n",
              "      <td>24.000000</td>\n",
              "      <td>961.800000</td>\n",
              "      <td>2.000000</td>\n",
              "      <td>0.000000</td>\n",
              "      <td>2.000000</td>\n",
              "      <td>0.000000</td>\n",
              "      <td>1.000000</td>\n",
              "      <td>0.000000</td>\n",
              "      <td>0.000000</td>\n",
              "      <td>0.000000</td>\n",
              "      <td>0.000000</td>\n",
              "    </tr>\n",
              "    <tr>\n",
              "      <th>25%</th>\n",
              "      <td>0.000000</td>\n",
              "      <td>0.000000</td>\n",
              "      <td>0.000000</td>\n",
              "      <td>6.600000</td>\n",
              "      <td>0.000000</td>\n",
              "      <td>5.400000</td>\n",
              "      <td>3.60000</td>\n",
              "      <td>7.900000</td>\n",
              "      <td>74.000000</td>\n",
              "      <td>1005.400000</td>\n",
              "      <td>2.000000</td>\n",
              "      <td>6.000000</td>\n",
              "      <td>2.000000</td>\n",
              "      <td>140.000000</td>\n",
              "      <td>2.000000</td>\n",
              "      <td>11.000000</td>\n",
              "      <td>0.000000</td>\n",
              "      <td>24.000000</td>\n",
              "      <td>4.000000</td>\n",
              "    </tr>\n",
              "    <tr>\n",
              "      <th>50%</th>\n",
              "      <td>0.000000</td>\n",
              "      <td>0.000000</td>\n",
              "      <td>0.000000</td>\n",
              "      <td>10.100000</td>\n",
              "      <td>0.000000</td>\n",
              "      <td>8.700000</td>\n",
              "      <td>7.10000</td>\n",
              "      <td>10.100000</td>\n",
              "      <td>84.000000</td>\n",
              "      <td>1014.900000</td>\n",
              "      <td>2.000000</td>\n",
              "      <td>9.000000</td>\n",
              "      <td>2.000000</td>\n",
              "      <td>230.000000</td>\n",
              "      <td>2.000000</td>\n",
              "      <td>11.000000</td>\n",
              "      <td>0.000000</td>\n",
              "      <td>50.000000</td>\n",
              "      <td>7.000000</td>\n",
              "    </tr>\n",
              "    <tr>\n",
              "      <th>75%</th>\n",
              "      <td>0.000000</td>\n",
              "      <td>0.000000</td>\n",
              "      <td>0.000000</td>\n",
              "      <td>13.700000</td>\n",
              "      <td>0.000000</td>\n",
              "      <td>12.000000</td>\n",
              "      <td>10.20000</td>\n",
              "      <td>12.500000</td>\n",
              "      <td>91.000000</td>\n",
              "      <td>1022.300000</td>\n",
              "      <td>2.000000</td>\n",
              "      <td>12.000000</td>\n",
              "      <td>2.000000</td>\n",
              "      <td>270.000000</td>\n",
              "      <td>21.000000</td>\n",
              "      <td>62.000000</td>\n",
              "      <td>0.100000</td>\n",
              "      <td>250.000000</td>\n",
              "      <td>7.000000</td>\n",
              "    </tr>\n",
              "    <tr>\n",
              "      <th>max</th>\n",
              "      <td>3.000000</td>\n",
              "      <td>13.800000</td>\n",
              "      <td>1.000000</td>\n",
              "      <td>29.100000</td>\n",
              "      <td>1.000000</td>\n",
              "      <td>21.400000</td>\n",
              "      <td>19.50000</td>\n",
              "      <td>22.600000</td>\n",
              "      <td>100.000000</td>\n",
              "      <td>1048.200000</td>\n",
              "      <td>4.000000</td>\n",
              "      <td>44.000000</td>\n",
              "      <td>4.000000</td>\n",
              "      <td>360.000000</td>\n",
              "      <td>97.000000</td>\n",
              "      <td>98.000000</td>\n",
              "      <td>1.000000</td>\n",
              "      <td>999.000000</td>\n",
              "      <td>9.000000</td>\n",
              "    </tr>\n",
              "  </tbody>\n",
              "</table>\n",
              "</div>\n",
              "    <div class=\"colab-df-buttons\">\n",
              "\n",
              "  <div class=\"colab-df-container\">\n",
              "    <button class=\"colab-df-convert\" onclick=\"convertToInteractive('df-95a4668a-aa3f-41d2-93c6-eac4d0ef11b6')\"\n",
              "            title=\"Convert this dataframe to an interactive table.\"\n",
              "            style=\"display:none;\">\n",
              "\n",
              "  <svg xmlns=\"http://www.w3.org/2000/svg\" height=\"24px\" viewBox=\"0 -960 960 960\">\n",
              "    <path d=\"M120-120v-720h720v720H120Zm60-500h600v-160H180v160Zm220 220h160v-160H400v160Zm0 220h160v-160H400v160ZM180-400h160v-160H180v160Zm440 0h160v-160H620v160ZM180-180h160v-160H180v160Zm440 0h160v-160H620v160Z\"/>\n",
              "  </svg>\n",
              "    </button>\n",
              "\n",
              "  <style>\n",
              "    .colab-df-container {\n",
              "      display:flex;\n",
              "      gap: 12px;\n",
              "    }\n",
              "\n",
              "    .colab-df-convert {\n",
              "      background-color: #E8F0FE;\n",
              "      border: none;\n",
              "      border-radius: 50%;\n",
              "      cursor: pointer;\n",
              "      display: none;\n",
              "      fill: #1967D2;\n",
              "      height: 32px;\n",
              "      padding: 0 0 0 0;\n",
              "      width: 32px;\n",
              "    }\n",
              "\n",
              "    .colab-df-convert:hover {\n",
              "      background-color: #E2EBFA;\n",
              "      box-shadow: 0px 1px 2px rgba(60, 64, 67, 0.3), 0px 1px 3px 1px rgba(60, 64, 67, 0.15);\n",
              "      fill: #174EA6;\n",
              "    }\n",
              "\n",
              "    .colab-df-buttons div {\n",
              "      margin-bottom: 4px;\n",
              "    }\n",
              "\n",
              "    [theme=dark] .colab-df-convert {\n",
              "      background-color: #3B4455;\n",
              "      fill: #D2E3FC;\n",
              "    }\n",
              "\n",
              "    [theme=dark] .colab-df-convert:hover {\n",
              "      background-color: #434B5C;\n",
              "      box-shadow: 0px 1px 3px 1px rgba(0, 0, 0, 0.15);\n",
              "      filter: drop-shadow(0px 1px 2px rgba(0, 0, 0, 0.3));\n",
              "      fill: #FFFFFF;\n",
              "    }\n",
              "  </style>\n",
              "\n",
              "    <script>\n",
              "      const buttonEl =\n",
              "        document.querySelector('#df-95a4668a-aa3f-41d2-93c6-eac4d0ef11b6 button.colab-df-convert');\n",
              "      buttonEl.style.display =\n",
              "        google.colab.kernel.accessAllowed ? 'block' : 'none';\n",
              "\n",
              "      async function convertToInteractive(key) {\n",
              "        const element = document.querySelector('#df-95a4668a-aa3f-41d2-93c6-eac4d0ef11b6');\n",
              "        const dataTable =\n",
              "          await google.colab.kernel.invokeFunction('convertToInteractive',\n",
              "                                                    [key], {});\n",
              "        if (!dataTable) return;\n",
              "\n",
              "        const docLinkHtml = 'Like what you see? Visit the ' +\n",
              "          '<a target=\"_blank\" href=https://colab.research.google.com/notebooks/data_table.ipynb>data table notebook</a>'\n",
              "          + ' to learn more about interactive tables.';\n",
              "        element.innerHTML = '';\n",
              "        dataTable['output_type'] = 'display_data';\n",
              "        await google.colab.output.renderOutput(dataTable, element);\n",
              "        const docLink = document.createElement('div');\n",
              "        docLink.innerHTML = docLinkHtml;\n",
              "        element.appendChild(docLink);\n",
              "      }\n",
              "    </script>\n",
              "  </div>\n",
              "\n",
              "\n",
              "<div id=\"df-566805cd-e9a4-4182-96e1-b27a40a75ba6\">\n",
              "  <button class=\"colab-df-quickchart\" onclick=\"quickchart('df-566805cd-e9a4-4182-96e1-b27a40a75ba6')\"\n",
              "            title=\"Suggest charts\"\n",
              "            style=\"display:none;\">\n",
              "\n",
              "<svg xmlns=\"http://www.w3.org/2000/svg\" height=\"24px\"viewBox=\"0 0 24 24\"\n",
              "     width=\"24px\">\n",
              "    <g>\n",
              "        <path d=\"M19 3H5c-1.1 0-2 .9-2 2v14c0 1.1.9 2 2 2h14c1.1 0 2-.9 2-2V5c0-1.1-.9-2-2-2zM9 17H7v-7h2v7zm4 0h-2V7h2v10zm4 0h-2v-4h2v4z\"/>\n",
              "    </g>\n",
              "</svg>\n",
              "  </button>\n",
              "\n",
              "<style>\n",
              "  .colab-df-quickchart {\n",
              "      --bg-color: #E8F0FE;\n",
              "      --fill-color: #1967D2;\n",
              "      --hover-bg-color: #E2EBFA;\n",
              "      --hover-fill-color: #174EA6;\n",
              "      --disabled-fill-color: #AAA;\n",
              "      --disabled-bg-color: #DDD;\n",
              "  }\n",
              "\n",
              "  [theme=dark] .colab-df-quickchart {\n",
              "      --bg-color: #3B4455;\n",
              "      --fill-color: #D2E3FC;\n",
              "      --hover-bg-color: #434B5C;\n",
              "      --hover-fill-color: #FFFFFF;\n",
              "      --disabled-bg-color: #3B4455;\n",
              "      --disabled-fill-color: #666;\n",
              "  }\n",
              "\n",
              "  .colab-df-quickchart {\n",
              "    background-color: var(--bg-color);\n",
              "    border: none;\n",
              "    border-radius: 50%;\n",
              "    cursor: pointer;\n",
              "    display: none;\n",
              "    fill: var(--fill-color);\n",
              "    height: 32px;\n",
              "    padding: 0;\n",
              "    width: 32px;\n",
              "  }\n",
              "\n",
              "  .colab-df-quickchart:hover {\n",
              "    background-color: var(--hover-bg-color);\n",
              "    box-shadow: 0 1px 2px rgba(60, 64, 67, 0.3), 0 1px 3px 1px rgba(60, 64, 67, 0.15);\n",
              "    fill: var(--button-hover-fill-color);\n",
              "  }\n",
              "\n",
              "  .colab-df-quickchart-complete:disabled,\n",
              "  .colab-df-quickchart-complete:disabled:hover {\n",
              "    background-color: var(--disabled-bg-color);\n",
              "    fill: var(--disabled-fill-color);\n",
              "    box-shadow: none;\n",
              "  }\n",
              "\n",
              "  .colab-df-spinner {\n",
              "    border: 2px solid var(--fill-color);\n",
              "    border-color: transparent;\n",
              "    border-bottom-color: var(--fill-color);\n",
              "    animation:\n",
              "      spin 1s steps(1) infinite;\n",
              "  }\n",
              "\n",
              "  @keyframes spin {\n",
              "    0% {\n",
              "      border-color: transparent;\n",
              "      border-bottom-color: var(--fill-color);\n",
              "      border-left-color: var(--fill-color);\n",
              "    }\n",
              "    20% {\n",
              "      border-color: transparent;\n",
              "      border-left-color: var(--fill-color);\n",
              "      border-top-color: var(--fill-color);\n",
              "    }\n",
              "    30% {\n",
              "      border-color: transparent;\n",
              "      border-left-color: var(--fill-color);\n",
              "      border-top-color: var(--fill-color);\n",
              "      border-right-color: var(--fill-color);\n",
              "    }\n",
              "    40% {\n",
              "      border-color: transparent;\n",
              "      border-right-color: var(--fill-color);\n",
              "      border-top-color: var(--fill-color);\n",
              "    }\n",
              "    60% {\n",
              "      border-color: transparent;\n",
              "      border-right-color: var(--fill-color);\n",
              "    }\n",
              "    80% {\n",
              "      border-color: transparent;\n",
              "      border-right-color: var(--fill-color);\n",
              "      border-bottom-color: var(--fill-color);\n",
              "    }\n",
              "    90% {\n",
              "      border-color: transparent;\n",
              "      border-bottom-color: var(--fill-color);\n",
              "    }\n",
              "  }\n",
              "</style>\n",
              "\n",
              "  <script>\n",
              "    async function quickchart(key) {\n",
              "      const quickchartButtonEl =\n",
              "        document.querySelector('#' + key + ' button');\n",
              "      quickchartButtonEl.disabled = true;  // To prevent multiple clicks.\n",
              "      quickchartButtonEl.classList.add('colab-df-spinner');\n",
              "      try {\n",
              "        const charts = await google.colab.kernel.invokeFunction(\n",
              "            'suggestCharts', [key], {});\n",
              "      } catch (error) {\n",
              "        console.error('Error during call to suggestCharts:', error);\n",
              "      }\n",
              "      quickchartButtonEl.classList.remove('colab-df-spinner');\n",
              "      quickchartButtonEl.classList.add('colab-df-quickchart-complete');\n",
              "    }\n",
              "    (() => {\n",
              "      let quickchartButtonEl =\n",
              "        document.querySelector('#df-566805cd-e9a4-4182-96e1-b27a40a75ba6 button');\n",
              "      quickchartButtonEl.style.display =\n",
              "        google.colab.kernel.accessAllowed ? 'block' : 'none';\n",
              "    })();\n",
              "  </script>\n",
              "</div>\n",
              "    </div>\n",
              "  </div>\n"
            ],
            "text/plain": [
              "                ind          rain         ind.1          temp         ind.2  \\\n",
              "count  61345.000000  61345.000000  61345.000000  61345.000000  61345.000000   \n",
              "mean       0.493765      0.087166      0.019594     10.113817      0.027614   \n",
              "std        0.980092      0.420248      0.138602      5.062082      0.163866   \n",
              "min        0.000000      0.000000      0.000000     -5.600000      0.000000   \n",
              "25%        0.000000      0.000000      0.000000      6.600000      0.000000   \n",
              "50%        0.000000      0.000000      0.000000     10.100000      0.000000   \n",
              "75%        0.000000      0.000000      0.000000     13.700000      0.000000   \n",
              "max        3.000000     13.800000      1.000000     29.100000      1.000000   \n",
              "\n",
              "               wetb        dewpt         vappr          rhum           msl  \\\n",
              "count  61345.000000  61345.00000  61345.000000  61345.000000  61345.000000   \n",
              "mean       8.597198      6.93634     10.400083     81.755172   1013.401697   \n",
              "std        4.457445      4.52180      3.173393     11.991678     12.671529   \n",
              "min       -5.900000     -8.90000      3.100000     24.000000    961.800000   \n",
              "25%        5.400000      3.60000      7.900000     74.000000   1005.400000   \n",
              "50%        8.700000      7.10000     10.100000     84.000000   1014.900000   \n",
              "75%       12.000000     10.20000     12.500000     91.000000   1022.300000   \n",
              "max       21.400000     19.50000     22.600000    100.000000   1048.200000   \n",
              "\n",
              "              ind.3          wdsp         ind.4         wddir            ww  \\\n",
              "count  61345.000000  61345.000000  61345.000000  61345.000000  61345.000000   \n",
              "mean       2.000065      9.475866      2.000065    206.367919     14.756769   \n",
              "std        0.011420      4.681316      0.011420     81.329671     22.707006   \n",
              "min        2.000000      0.000000      2.000000      0.000000      1.000000   \n",
              "25%        2.000000      6.000000      2.000000    140.000000      2.000000   \n",
              "50%        2.000000      9.000000      2.000000    230.000000      2.000000   \n",
              "75%        2.000000     12.000000      2.000000    270.000000     21.000000   \n",
              "max        4.000000     44.000000      4.000000    360.000000     97.000000   \n",
              "\n",
              "                  w           sun          clht         clamt  \n",
              "count  61345.000000  61345.000000  61345.000000  61345.000000  \n",
              "mean      29.447388      0.169494    286.170055      5.583797  \n",
              "std       26.964605      0.323256    401.147943      2.223360  \n",
              "min        0.000000      0.000000      0.000000      0.000000  \n",
              "25%       11.000000      0.000000     24.000000      4.000000  \n",
              "50%       11.000000      0.000000     50.000000      7.000000  \n",
              "75%       62.000000      0.100000    250.000000      7.000000  \n",
              "max       98.000000      1.000000    999.000000      9.000000  "
            ]
          },
          "execution_count": 8,
          "metadata": {},
          "output_type": "execute_result"
        }
      ],
      "source": [
        "dublinairportds.describe()"
      ]
    },
    {
      "cell_type": "markdown",
      "metadata": {
        "id": "Rgf6Ufera8Jx"
      },
      "source": [
        "**Malin Head(Donengal)**"
      ]
    },
    {
      "cell_type": "code",
      "execution_count": null,
      "metadata": {
        "colab": {
          "base_uri": "https://localhost:8080/"
        },
        "id": "DHLphbLAa8S0",
        "outputId": "9c3ab791-ec96-48ca-cb4b-f379708bd671"
      },
      "outputs": [
        {
          "name": "stdout",
          "output_type": "stream",
          "text": [
            "Index(['date', 'ind', 'rain', 'ind.1', 'temp', 'ind.2', 'wetb', 'dewpt',\n",
            "       'vappr', 'rhum', 'msl', 'ind.3', 'wdsp', 'ind.4', 'wddir'],\n",
            "      dtype='object')\n"
          ]
        }
      ],
      "source": [
        "import pandas as pd\n",
        "import requests\n",
        "from io import StringIO\n",
        "\n",
        "github_raw_url = 'https://raw.githubusercontent.com/KaylumCassidy/FYP/main/Malin%20Head.csv'\n",
        "\n",
        "# Fetch the content of the file\n",
        "response = requests.get(github_raw_url)\n",
        "s = response.content\n",
        "\n",
        "# Read the CSV file into a pandas DataFrame\n",
        "malinHead = pd.read_csv(StringIO(s.decode('utf-8')))\n",
        "\n",
        "# Display the column names\n",
        "print(malinHead.columns)\n",
        "\n",
        "# Convert the 'date' column to datetime format\n",
        "malinHead['date'] = pd.to_datetime(malinHead['date'], format='%d/%m/%Y %H:%M', errors='ignore')\n",
        "\n",
        "# Fix the 'wdsp' column with space value\n",
        "malinHead['wdsp'].replace(to_replace=' ', value=0, inplace=True)\n",
        "malinHead['wdsp'] = malinHead['wdsp'].astype('float32')  # Change to float if necessary\n",
        "\n",
        "# Replace \"your_min_date_here\" with an actual minimum date in the correct format\n",
        "minDate = pd.to_datetime('01/01/2017 00:00', format='%d/%m/%Y %H:%M')  # Adjust the date and format as needed\n",
        "\n",
        "# Reduce the timeframe\n",
        "malinHead = malinHead[malinHead['date'] >= minDate]\n",
        "\n"
      ]
    },
    {
      "cell_type": "markdown",
      "metadata": {
        "id": "F3k2fI6gbFYn"
      },
      "source": [
        "**BELMULLET**"
      ]
    },
    {
      "cell_type": "code",
      "execution_count": null,
      "metadata": {
        "colab": {
          "base_uri": "https://localhost:8080/"
        },
        "id": "T0qBINi1bFlp",
        "outputId": "2c7e6c90-c7bf-4500-9cd5-f7141f0499d5"
      },
      "outputs": [
        {
          "name": "stdout",
          "output_type": "stream",
          "text": [
            "Index(['date', 'ind', 'rain', 'ind.1', 'temp', 'ind.2', 'wetb', 'dewpt',\n",
            "       'vappr', 'rhum', 'msl', 'ind.3', 'wdsp', 'ind.4', 'wddir'],\n",
            "      dtype='object')\n"
          ]
        }
      ],
      "source": [
        "import pandas as pd\n",
        "import requests\n",
        "from io import StringIO\n",
        "\n",
        "github_raw_url = 'https://raw.githubusercontent.com/KaylumCassidy/FYP/main/BELMULLET.csv'\n",
        "\n",
        "# Fetch the content of the file\n",
        "response = requests.get(github_raw_url)\n",
        "s = response.content\n",
        "\n",
        "# Read the CSV file into a pandas DataFrame\n",
        "belmullet = pd.read_csv(StringIO(s.decode('utf-8')))\n",
        "\n",
        "# Display the column names\n",
        "print(belmullet.columns)\n",
        "\n",
        "# Convert the 'date' column to datetime format\n",
        "belmullet['date'] = pd.to_datetime(belmullet['date'], format='%d/%m/%Y %H:%M', errors='ignore')\n",
        "\n",
        "# Fix the 'wdsp' column with space value\n",
        "belmullet['wdsp'].replace(to_replace=' ', value=0, inplace=True)\n",
        "belmullet['wdsp'] = belmullet['wdsp'].astype('float32')  # Change to float if necessary\n",
        "\n",
        "# Replace \"your_min_date_here\" with an actual minimum date in the correct format\n",
        "minDate = pd.to_datetime('01/01/2017 00:00', format='%d/%m/%Y %H:%M')  # Adjust the date and format as needed\n",
        "\n",
        "# Reduce the timeframe\n",
        "belmullet = belmullet[belmullet['date'] >= minDate]\n",
        "\n",
        "# Now you can continue with your data analysis or processi"
      ]
    },
    {
      "cell_type": "markdown",
      "metadata": {
        "id": "7uvessinbMRa"
      },
      "source": [
        "### Merge Irish weather Dataset*"
      ]
    },
    {
      "cell_type": "code",
      "execution_count": null,
      "metadata": {
        "id": "manZ1MZzbVKs"
      },
      "outputs": [],
      "source": [
        "left = belmullet.set_index(['date']).copy()\n",
        "right = dublinairportds.set_index(['date'])\n",
        "#right.index = right.index.tz_convert(None)\n",
        "\n",
        "newdf = left.join(right, lsuffix=\"_BEL\", rsuffix=\"_DUB\")\n",
        "\n",
        "right = shannonAirport.set_index(['date'])\n",
        "newdf = newdf.join(right, lsuffix=\"\", rsuffix=\"_SHA\")\n",
        "\n",
        "right = corkairportds.set_index(['date'])\n",
        "newdf = newdf.join(right, lsuffix=\"\", rsuffix=\"_COR\")\n",
        "\n",
        "right = galway.set_index(['date'])\n",
        "newdf = newdf.join(right, lsuffix=\"\", rsuffix=\"_GAL\")\n",
        "\n",
        "right = malinHead.set_index(['date'])\n",
        "newdf = newdf.join(right, lsuffix=\"\", rsuffix=\"_DON\")\n",
        "\n",
        "newdf = newdf.reset_index()"
      ]
    },
    {
      "cell_type": "code",
      "execution_count": null,
      "metadata": {
        "colab": {
          "base_uri": "https://localhost:8080/"
        },
        "id": "BCw-XZYrbgRu",
        "outputId": "6c77c347-69d5-4289-df1e-b4bc95461931"
      },
      "outputs": [
        {
          "data": {
            "text/plain": [
              "Index(['date', 'ind_BEL', 'rain_BEL', 'ind.1_BEL', 'temp_BEL', 'ind.2_BEL',\n",
              "       'wetb_BEL', 'dewpt_BEL', 'vappr_BEL', 'rhum_BEL',\n",
              "       ...\n",
              "       'ind.2_DON', 'wetb_DON', 'dewpt_DON', 'vappr_DON', 'rhum_DON',\n",
              "       'msl_DON', 'ind.3_DON', 'wdsp_DON', 'ind.4_DON', 'wddir_DON'],\n",
              "      dtype='object', length=103)"
            ]
          },
          "execution_count": 12,
          "metadata": {},
          "output_type": "execute_result"
        }
      ],
      "source": [
        "\n",
        "newdf.columns"
      ]
    },
    {
      "cell_type": "code",
      "execution_count": null,
      "metadata": {
        "colab": {
          "base_uri": "https://localhost:8080/",
          "height": 423
        },
        "id": "Ky821r37biC9",
        "outputId": "b896e641-e038-42a4-e01b-8adb212f265b"
      },
      "outputs": [
        {
          "data": {
            "text/html": [
              "\n",
              "  <div id=\"df-45193754-2754-4bbe-8768-e38061e30806\" class=\"colab-df-container\">\n",
              "    <div>\n",
              "<style scoped>\n",
              "    .dataframe tbody tr th:only-of-type {\n",
              "        vertical-align: middle;\n",
              "    }\n",
              "\n",
              "    .dataframe tbody tr th {\n",
              "        vertical-align: top;\n",
              "    }\n",
              "\n",
              "    .dataframe thead th {\n",
              "        text-align: right;\n",
              "    }\n",
              "</style>\n",
              "<table border=\"1\" class=\"dataframe\">\n",
              "  <thead>\n",
              "    <tr style=\"text-align: right;\">\n",
              "      <th></th>\n",
              "      <th>date</th>\n",
              "      <th>ind_BEL</th>\n",
              "      <th>rain_BEL</th>\n",
              "      <th>ind.1_BEL</th>\n",
              "      <th>temp_BEL</th>\n",
              "      <th>ind.2_BEL</th>\n",
              "      <th>wetb_BEL</th>\n",
              "      <th>dewpt_BEL</th>\n",
              "      <th>vappr_BEL</th>\n",
              "      <th>rhum_BEL</th>\n",
              "      <th>...</th>\n",
              "      <th>ind.2_DON</th>\n",
              "      <th>wetb_DON</th>\n",
              "      <th>dewpt_DON</th>\n",
              "      <th>vappr_DON</th>\n",
              "      <th>rhum_DON</th>\n",
              "      <th>msl_DON</th>\n",
              "      <th>ind.3_DON</th>\n",
              "      <th>wdsp_DON</th>\n",
              "      <th>ind.4_DON</th>\n",
              "      <th>wddir_DON</th>\n",
              "    </tr>\n",
              "  </thead>\n",
              "  <tbody>\n",
              "    <tr>\n",
              "      <th>0</th>\n",
              "      <td>2017-01-01 00:00:00</td>\n",
              "      <td>0</td>\n",
              "      <td>0.0</td>\n",
              "      <td>0</td>\n",
              "      <td>5.2</td>\n",
              "      <td>0</td>\n",
              "      <td>3.9</td>\n",
              "      <td>2.0</td>\n",
              "      <td>7.1</td>\n",
              "      <td>79</td>\n",
              "      <td>...</td>\n",
              "      <td>0</td>\n",
              "      <td>4.3</td>\n",
              "      <td>1.4</td>\n",
              "      <td>6.7</td>\n",
              "      <td>70</td>\n",
              "      <td>1020.6</td>\n",
              "      <td>2</td>\n",
              "      <td>19.0</td>\n",
              "      <td>2</td>\n",
              "      <td>340</td>\n",
              "    </tr>\n",
              "    <tr>\n",
              "      <th>1</th>\n",
              "      <td>2017-01-01 01:00:00</td>\n",
              "      <td>0</td>\n",
              "      <td>0.5</td>\n",
              "      <td>0</td>\n",
              "      <td>4.7</td>\n",
              "      <td>0</td>\n",
              "      <td>3.4</td>\n",
              "      <td>1.4</td>\n",
              "      <td>6.8</td>\n",
              "      <td>78</td>\n",
              "      <td>...</td>\n",
              "      <td>0</td>\n",
              "      <td>4.1</td>\n",
              "      <td>2.2</td>\n",
              "      <td>7.2</td>\n",
              "      <td>80</td>\n",
              "      <td>1021.1</td>\n",
              "      <td>2</td>\n",
              "      <td>22.0</td>\n",
              "      <td>2</td>\n",
              "      <td>340</td>\n",
              "    </tr>\n",
              "    <tr>\n",
              "      <th>2</th>\n",
              "      <td>2017-01-01 02:00:00</td>\n",
              "      <td>0</td>\n",
              "      <td>0.0</td>\n",
              "      <td>0</td>\n",
              "      <td>5.7</td>\n",
              "      <td>0</td>\n",
              "      <td>3.8</td>\n",
              "      <td>0.7</td>\n",
              "      <td>6.4</td>\n",
              "      <td>70</td>\n",
              "      <td>...</td>\n",
              "      <td>0</td>\n",
              "      <td>4.1</td>\n",
              "      <td>1.0</td>\n",
              "      <td>6.6</td>\n",
              "      <td>69</td>\n",
              "      <td>1021.6</td>\n",
              "      <td>2</td>\n",
              "      <td>24.0</td>\n",
              "      <td>2</td>\n",
              "      <td>350</td>\n",
              "    </tr>\n",
              "    <tr>\n",
              "      <th>3</th>\n",
              "      <td>2017-01-01 03:00:00</td>\n",
              "      <td>0</td>\n",
              "      <td>0.4</td>\n",
              "      <td>0</td>\n",
              "      <td>5.6</td>\n",
              "      <td>0</td>\n",
              "      <td>3.3</td>\n",
              "      <td>-0.6</td>\n",
              "      <td>5.9</td>\n",
              "      <td>64</td>\n",
              "      <td>...</td>\n",
              "      <td>0</td>\n",
              "      <td>4.5</td>\n",
              "      <td>1.6</td>\n",
              "      <td>6.8</td>\n",
              "      <td>70</td>\n",
              "      <td>1022.0</td>\n",
              "      <td>2</td>\n",
              "      <td>23.0</td>\n",
              "      <td>2</td>\n",
              "      <td>360</td>\n",
              "    </tr>\n",
              "    <tr>\n",
              "      <th>4</th>\n",
              "      <td>2017-01-01 04:00:00</td>\n",
              "      <td>0</td>\n",
              "      <td>0.6</td>\n",
              "      <td>0</td>\n",
              "      <td>4.7</td>\n",
              "      <td>0</td>\n",
              "      <td>3.1</td>\n",
              "      <td>0.5</td>\n",
              "      <td>6.3</td>\n",
              "      <td>74</td>\n",
              "      <td>...</td>\n",
              "      <td>0</td>\n",
              "      <td>4.6</td>\n",
              "      <td>1.7</td>\n",
              "      <td>6.9</td>\n",
              "      <td>71</td>\n",
              "      <td>1022.4</td>\n",
              "      <td>2</td>\n",
              "      <td>27.0</td>\n",
              "      <td>2</td>\n",
              "      <td>360</td>\n",
              "    </tr>\n",
              "    <tr>\n",
              "      <th>...</th>\n",
              "      <td>...</td>\n",
              "      <td>...</td>\n",
              "      <td>...</td>\n",
              "      <td>...</td>\n",
              "      <td>...</td>\n",
              "      <td>...</td>\n",
              "      <td>...</td>\n",
              "      <td>...</td>\n",
              "      <td>...</td>\n",
              "      <td>...</td>\n",
              "      <td>...</td>\n",
              "      <td>...</td>\n",
              "      <td>...</td>\n",
              "      <td>...</td>\n",
              "      <td>...</td>\n",
              "      <td>...</td>\n",
              "      <td>...</td>\n",
              "      <td>...</td>\n",
              "      <td>...</td>\n",
              "      <td>...</td>\n",
              "      <td>...</td>\n",
              "    </tr>\n",
              "    <tr>\n",
              "      <th>61340</th>\n",
              "      <td>2023-12-31 20:00:00</td>\n",
              "      <td>0</td>\n",
              "      <td>0.1</td>\n",
              "      <td>0</td>\n",
              "      <td>8.2</td>\n",
              "      <td>0</td>\n",
              "      <td>6.5</td>\n",
              "      <td>4.3</td>\n",
              "      <td>8.3</td>\n",
              "      <td>76</td>\n",
              "      <td>...</td>\n",
              "      <td>0</td>\n",
              "      <td>6.6</td>\n",
              "      <td>5.6</td>\n",
              "      <td>9.1</td>\n",
              "      <td>89</td>\n",
              "      <td>985.0</td>\n",
              "      <td>2</td>\n",
              "      <td>25.0</td>\n",
              "      <td>2</td>\n",
              "      <td>300</td>\n",
              "    </tr>\n",
              "    <tr>\n",
              "      <th>61341</th>\n",
              "      <td>2023-12-31 21:00:00</td>\n",
              "      <td>0</td>\n",
              "      <td>0.0</td>\n",
              "      <td>0</td>\n",
              "      <td>7.6</td>\n",
              "      <td>0</td>\n",
              "      <td>5.9</td>\n",
              "      <td>3.7</td>\n",
              "      <td>8.0</td>\n",
              "      <td>76</td>\n",
              "      <td>...</td>\n",
              "      <td>0</td>\n",
              "      <td>6.2</td>\n",
              "      <td>5.2</td>\n",
              "      <td>8.8</td>\n",
              "      <td>88</td>\n",
              "      <td>986.4</td>\n",
              "      <td>2</td>\n",
              "      <td>32.0</td>\n",
              "      <td>2</td>\n",
              "      <td>310</td>\n",
              "    </tr>\n",
              "    <tr>\n",
              "      <th>61342</th>\n",
              "      <td>2023-12-31 22:00:00</td>\n",
              "      <td>0</td>\n",
              "      <td>0.0</td>\n",
              "      <td>0</td>\n",
              "      <td>7.5</td>\n",
              "      <td>0</td>\n",
              "      <td>5.9</td>\n",
              "      <td>3.6</td>\n",
              "      <td>7.9</td>\n",
              "      <td>76</td>\n",
              "      <td>...</td>\n",
              "      <td>0</td>\n",
              "      <td>6.6</td>\n",
              "      <td>5.3</td>\n",
              "      <td>8.9</td>\n",
              "      <td>85</td>\n",
              "      <td>988.0</td>\n",
              "      <td>2</td>\n",
              "      <td>27.0</td>\n",
              "      <td>2</td>\n",
              "      <td>320</td>\n",
              "    </tr>\n",
              "    <tr>\n",
              "      <th>61343</th>\n",
              "      <td>2023-12-31 23:00:00</td>\n",
              "      <td>0</td>\n",
              "      <td>0.1</td>\n",
              "      <td>0</td>\n",
              "      <td>7.4</td>\n",
              "      <td>0</td>\n",
              "      <td>5.7</td>\n",
              "      <td>3.4</td>\n",
              "      <td>7.8</td>\n",
              "      <td>75</td>\n",
              "      <td>...</td>\n",
              "      <td>0</td>\n",
              "      <td>6.3</td>\n",
              "      <td>4.4</td>\n",
              "      <td>8.4</td>\n",
              "      <td>79</td>\n",
              "      <td>988.7</td>\n",
              "      <td>2</td>\n",
              "      <td>23.0</td>\n",
              "      <td>2</td>\n",
              "      <td>310</td>\n",
              "    </tr>\n",
              "    <tr>\n",
              "      <th>61344</th>\n",
              "      <td>2024-01-01 00:00:00</td>\n",
              "      <td>0</td>\n",
              "      <td>0.1</td>\n",
              "      <td>0</td>\n",
              "      <td>7.5</td>\n",
              "      <td>0</td>\n",
              "      <td>6.0</td>\n",
              "      <td>3.9</td>\n",
              "      <td>8.1</td>\n",
              "      <td>77</td>\n",
              "      <td>...</td>\n",
              "      <td>0</td>\n",
              "      <td>5.9</td>\n",
              "      <td>3.7</td>\n",
              "      <td>8.0</td>\n",
              "      <td>77</td>\n",
              "      <td>989.8</td>\n",
              "      <td>2</td>\n",
              "      <td>24.0</td>\n",
              "      <td>2</td>\n",
              "      <td>300</td>\n",
              "    </tr>\n",
              "  </tbody>\n",
              "</table>\n",
              "<p>61345 rows × 103 columns</p>\n",
              "</div>\n",
              "    <div class=\"colab-df-buttons\">\n",
              "\n",
              "  <div class=\"colab-df-container\">\n",
              "    <button class=\"colab-df-convert\" onclick=\"convertToInteractive('df-45193754-2754-4bbe-8768-e38061e30806')\"\n",
              "            title=\"Convert this dataframe to an interactive table.\"\n",
              "            style=\"display:none;\">\n",
              "\n",
              "  <svg xmlns=\"http://www.w3.org/2000/svg\" height=\"24px\" viewBox=\"0 -960 960 960\">\n",
              "    <path d=\"M120-120v-720h720v720H120Zm60-500h600v-160H180v160Zm220 220h160v-160H400v160Zm0 220h160v-160H400v160ZM180-400h160v-160H180v160Zm440 0h160v-160H620v160ZM180-180h160v-160H180v160Zm440 0h160v-160H620v160Z\"/>\n",
              "  </svg>\n",
              "    </button>\n",
              "\n",
              "  <style>\n",
              "    .colab-df-container {\n",
              "      display:flex;\n",
              "      gap: 12px;\n",
              "    }\n",
              "\n",
              "    .colab-df-convert {\n",
              "      background-color: #E8F0FE;\n",
              "      border: none;\n",
              "      border-radius: 50%;\n",
              "      cursor: pointer;\n",
              "      display: none;\n",
              "      fill: #1967D2;\n",
              "      height: 32px;\n",
              "      padding: 0 0 0 0;\n",
              "      width: 32px;\n",
              "    }\n",
              "\n",
              "    .colab-df-convert:hover {\n",
              "      background-color: #E2EBFA;\n",
              "      box-shadow: 0px 1px 2px rgba(60, 64, 67, 0.3), 0px 1px 3px 1px rgba(60, 64, 67, 0.15);\n",
              "      fill: #174EA6;\n",
              "    }\n",
              "\n",
              "    .colab-df-buttons div {\n",
              "      margin-bottom: 4px;\n",
              "    }\n",
              "\n",
              "    [theme=dark] .colab-df-convert {\n",
              "      background-color: #3B4455;\n",
              "      fill: #D2E3FC;\n",
              "    }\n",
              "\n",
              "    [theme=dark] .colab-df-convert:hover {\n",
              "      background-color: #434B5C;\n",
              "      box-shadow: 0px 1px 3px 1px rgba(0, 0, 0, 0.15);\n",
              "      filter: drop-shadow(0px 1px 2px rgba(0, 0, 0, 0.3));\n",
              "      fill: #FFFFFF;\n",
              "    }\n",
              "  </style>\n",
              "\n",
              "    <script>\n",
              "      const buttonEl =\n",
              "        document.querySelector('#df-45193754-2754-4bbe-8768-e38061e30806 button.colab-df-convert');\n",
              "      buttonEl.style.display =\n",
              "        google.colab.kernel.accessAllowed ? 'block' : 'none';\n",
              "\n",
              "      async function convertToInteractive(key) {\n",
              "        const element = document.querySelector('#df-45193754-2754-4bbe-8768-e38061e30806');\n",
              "        const dataTable =\n",
              "          await google.colab.kernel.invokeFunction('convertToInteractive',\n",
              "                                                    [key], {});\n",
              "        if (!dataTable) return;\n",
              "\n",
              "        const docLinkHtml = 'Like what you see? Visit the ' +\n",
              "          '<a target=\"_blank\" href=https://colab.research.google.com/notebooks/data_table.ipynb>data table notebook</a>'\n",
              "          + ' to learn more about interactive tables.';\n",
              "        element.innerHTML = '';\n",
              "        dataTable['output_type'] = 'display_data';\n",
              "        await google.colab.output.renderOutput(dataTable, element);\n",
              "        const docLink = document.createElement('div');\n",
              "        docLink.innerHTML = docLinkHtml;\n",
              "        element.appendChild(docLink);\n",
              "      }\n",
              "    </script>\n",
              "  </div>\n",
              "\n",
              "\n",
              "<div id=\"df-c679084d-9af0-440e-996f-130654a34a88\">\n",
              "  <button class=\"colab-df-quickchart\" onclick=\"quickchart('df-c679084d-9af0-440e-996f-130654a34a88')\"\n",
              "            title=\"Suggest charts\"\n",
              "            style=\"display:none;\">\n",
              "\n",
              "<svg xmlns=\"http://www.w3.org/2000/svg\" height=\"24px\"viewBox=\"0 0 24 24\"\n",
              "     width=\"24px\">\n",
              "    <g>\n",
              "        <path d=\"M19 3H5c-1.1 0-2 .9-2 2v14c0 1.1.9 2 2 2h14c1.1 0 2-.9 2-2V5c0-1.1-.9-2-2-2zM9 17H7v-7h2v7zm4 0h-2V7h2v10zm4 0h-2v-4h2v4z\"/>\n",
              "    </g>\n",
              "</svg>\n",
              "  </button>\n",
              "\n",
              "<style>\n",
              "  .colab-df-quickchart {\n",
              "      --bg-color: #E8F0FE;\n",
              "      --fill-color: #1967D2;\n",
              "      --hover-bg-color: #E2EBFA;\n",
              "      --hover-fill-color: #174EA6;\n",
              "      --disabled-fill-color: #AAA;\n",
              "      --disabled-bg-color: #DDD;\n",
              "  }\n",
              "\n",
              "  [theme=dark] .colab-df-quickchart {\n",
              "      --bg-color: #3B4455;\n",
              "      --fill-color: #D2E3FC;\n",
              "      --hover-bg-color: #434B5C;\n",
              "      --hover-fill-color: #FFFFFF;\n",
              "      --disabled-bg-color: #3B4455;\n",
              "      --disabled-fill-color: #666;\n",
              "  }\n",
              "\n",
              "  .colab-df-quickchart {\n",
              "    background-color: var(--bg-color);\n",
              "    border: none;\n",
              "    border-radius: 50%;\n",
              "    cursor: pointer;\n",
              "    display: none;\n",
              "    fill: var(--fill-color);\n",
              "    height: 32px;\n",
              "    padding: 0;\n",
              "    width: 32px;\n",
              "  }\n",
              "\n",
              "  .colab-df-quickchart:hover {\n",
              "    background-color: var(--hover-bg-color);\n",
              "    box-shadow: 0 1px 2px rgba(60, 64, 67, 0.3), 0 1px 3px 1px rgba(60, 64, 67, 0.15);\n",
              "    fill: var(--button-hover-fill-color);\n",
              "  }\n",
              "\n",
              "  .colab-df-quickchart-complete:disabled,\n",
              "  .colab-df-quickchart-complete:disabled:hover {\n",
              "    background-color: var(--disabled-bg-color);\n",
              "    fill: var(--disabled-fill-color);\n",
              "    box-shadow: none;\n",
              "  }\n",
              "\n",
              "  .colab-df-spinner {\n",
              "    border: 2px solid var(--fill-color);\n",
              "    border-color: transparent;\n",
              "    border-bottom-color: var(--fill-color);\n",
              "    animation:\n",
              "      spin 1s steps(1) infinite;\n",
              "  }\n",
              "\n",
              "  @keyframes spin {\n",
              "    0% {\n",
              "      border-color: transparent;\n",
              "      border-bottom-color: var(--fill-color);\n",
              "      border-left-color: var(--fill-color);\n",
              "    }\n",
              "    20% {\n",
              "      border-color: transparent;\n",
              "      border-left-color: var(--fill-color);\n",
              "      border-top-color: var(--fill-color);\n",
              "    }\n",
              "    30% {\n",
              "      border-color: transparent;\n",
              "      border-left-color: var(--fill-color);\n",
              "      border-top-color: var(--fill-color);\n",
              "      border-right-color: var(--fill-color);\n",
              "    }\n",
              "    40% {\n",
              "      border-color: transparent;\n",
              "      border-right-color: var(--fill-color);\n",
              "      border-top-color: var(--fill-color);\n",
              "    }\n",
              "    60% {\n",
              "      border-color: transparent;\n",
              "      border-right-color: var(--fill-color);\n",
              "    }\n",
              "    80% {\n",
              "      border-color: transparent;\n",
              "      border-right-color: var(--fill-color);\n",
              "      border-bottom-color: var(--fill-color);\n",
              "    }\n",
              "    90% {\n",
              "      border-color: transparent;\n",
              "      border-bottom-color: var(--fill-color);\n",
              "    }\n",
              "  }\n",
              "</style>\n",
              "\n",
              "  <script>\n",
              "    async function quickchart(key) {\n",
              "      const quickchartButtonEl =\n",
              "        document.querySelector('#' + key + ' button');\n",
              "      quickchartButtonEl.disabled = true;  // To prevent multiple clicks.\n",
              "      quickchartButtonEl.classList.add('colab-df-spinner');\n",
              "      try {\n",
              "        const charts = await google.colab.kernel.invokeFunction(\n",
              "            'suggestCharts', [key], {});\n",
              "      } catch (error) {\n",
              "        console.error('Error during call to suggestCharts:', error);\n",
              "      }\n",
              "      quickchartButtonEl.classList.remove('colab-df-spinner');\n",
              "      quickchartButtonEl.classList.add('colab-df-quickchart-complete');\n",
              "    }\n",
              "    (() => {\n",
              "      let quickchartButtonEl =\n",
              "        document.querySelector('#df-c679084d-9af0-440e-996f-130654a34a88 button');\n",
              "      quickchartButtonEl.style.display =\n",
              "        google.colab.kernel.accessAllowed ? 'block' : 'none';\n",
              "    })();\n",
              "  </script>\n",
              "</div>\n",
              "    </div>\n",
              "  </div>\n"
            ],
            "text/plain": [
              "                     date  ind_BEL  rain_BEL  ind.1_BEL  temp_BEL  ind.2_BEL  \\\n",
              "0     2017-01-01 00:00:00        0       0.0          0       5.2          0   \n",
              "1     2017-01-01 01:00:00        0       0.5          0       4.7          0   \n",
              "2     2017-01-01 02:00:00        0       0.0          0       5.7          0   \n",
              "3     2017-01-01 03:00:00        0       0.4          0       5.6          0   \n",
              "4     2017-01-01 04:00:00        0       0.6          0       4.7          0   \n",
              "...                   ...      ...       ...        ...       ...        ...   \n",
              "61340 2023-12-31 20:00:00        0       0.1          0       8.2          0   \n",
              "61341 2023-12-31 21:00:00        0       0.0          0       7.6          0   \n",
              "61342 2023-12-31 22:00:00        0       0.0          0       7.5          0   \n",
              "61343 2023-12-31 23:00:00        0       0.1          0       7.4          0   \n",
              "61344 2024-01-01 00:00:00        0       0.1          0       7.5          0   \n",
              "\n",
              "       wetb_BEL  dewpt_BEL  vappr_BEL  rhum_BEL  ...  ind.2_DON  wetb_DON  \\\n",
              "0           3.9        2.0        7.1        79  ...          0       4.3   \n",
              "1           3.4        1.4        6.8        78  ...          0       4.1   \n",
              "2           3.8        0.7        6.4        70  ...          0       4.1   \n",
              "3           3.3       -0.6        5.9        64  ...          0       4.5   \n",
              "4           3.1        0.5        6.3        74  ...          0       4.6   \n",
              "...         ...        ...        ...       ...  ...        ...       ...   \n",
              "61340       6.5        4.3        8.3        76  ...          0       6.6   \n",
              "61341       5.9        3.7        8.0        76  ...          0       6.2   \n",
              "61342       5.9        3.6        7.9        76  ...          0       6.6   \n",
              "61343       5.7        3.4        7.8        75  ...          0       6.3   \n",
              "61344       6.0        3.9        8.1        77  ...          0       5.9   \n",
              "\n",
              "       dewpt_DON  vappr_DON  rhum_DON  msl_DON  ind.3_DON  wdsp_DON  \\\n",
              "0            1.4        6.7        70   1020.6          2      19.0   \n",
              "1            2.2        7.2        80   1021.1          2      22.0   \n",
              "2            1.0        6.6        69   1021.6          2      24.0   \n",
              "3            1.6        6.8        70   1022.0          2      23.0   \n",
              "4            1.7        6.9        71   1022.4          2      27.0   \n",
              "...          ...        ...       ...      ...        ...       ...   \n",
              "61340        5.6        9.1        89    985.0          2      25.0   \n",
              "61341        5.2        8.8        88    986.4          2      32.0   \n",
              "61342        5.3        8.9        85    988.0          2      27.0   \n",
              "61343        4.4        8.4        79    988.7          2      23.0   \n",
              "61344        3.7        8.0        77    989.8          2      24.0   \n",
              "\n",
              "       ind.4_DON  wddir_DON  \n",
              "0              2        340  \n",
              "1              2        340  \n",
              "2              2        350  \n",
              "3              2        360  \n",
              "4              2        360  \n",
              "...          ...        ...  \n",
              "61340          2        300  \n",
              "61341          2        310  \n",
              "61342          2        320  \n",
              "61343          2        310  \n",
              "61344          2        300  \n",
              "\n",
              "[61345 rows x 103 columns]"
            ]
          },
          "execution_count": 13,
          "metadata": {},
          "output_type": "execute_result"
        }
      ],
      "source": [
        "\n",
        "newdf"
      ]
    },
    {
      "cell_type": "code",
      "execution_count": null,
      "metadata": {
        "colab": {
          "base_uri": "https://localhost:8080/"
        },
        "id": "0JAzMHDDbkDw",
        "outputId": "684fff18-b54f-4b75-c6f5-739dc842a80f"
      },
      "outputs": [
        {
          "data": {
            "text/plain": [
              "count    61345.000000\n",
              "mean        11.884114\n",
              "std          6.536866\n",
              "min          0.000000\n",
              "25%          7.000000\n",
              "50%         11.000000\n",
              "75%         16.000000\n",
              "max         45.000000\n",
              "Name: wdsp_BEL, dtype: float64"
            ]
          },
          "execution_count": 14,
          "metadata": {},
          "output_type": "execute_result"
        }
      ],
      "source": [
        "newdf['wdsp_BEL'].describe()"
      ]
    },
    {
      "cell_type": "code",
      "execution_count": null,
      "metadata": {
        "id": "Ss2a_pkFblwe"
      },
      "outputs": [],
      "source": [
        "\n",
        "newdf.to_csv(\"IrelandWeatherData.csv\", index=False)"
      ]
    },
    {
      "cell_type": "markdown",
      "metadata": {
        "id": "9BYrzgtYbsjZ"
      },
      "source": [
        "## Eirgrid data"
      ]
    },
    {
      "cell_type": "markdown",
      "metadata": {
        "id": "TpZto61xb_Na"
      },
      "source": [
        "### Import libraries"
      ]
    },
    {
      "cell_type": "code",
      "execution_count": null,
      "metadata": {
        "id": "XWxJyNYvcHQf"
      },
      "outputs": [],
      "source": [
        "import numpy as np # linear algebra\n",
        "import pandas as pd # data processing, CSV file I/O (e.g. pd.read_csv)\n",
        "\n",
        "import io\n",
        "import requests\n",
        "\n",
        "\n",
        "from plotly.offline import iplot\n",
        "import plotly.graph_objs as go\n",
        "from plotly import tools\n",
        "import plotly.figure_factory as ff\n",
        "from plotly.subplots import make_subplots\n",
        "import plotly.figure_factory as ff\n",
        "\n",
        "import warnings\n",
        "warnings.filterwarnings('ignore')\n",
        "\n",
        "import matplotlib.pyplot as plt\n",
        "plt.style.use('seaborn-whitegrid')\n",
        "\n",
        "from datetime import tzinfo, timedelta, datetime, date\n",
        "\n",
        "# Any results you write to the current directory are saved as output.\n",
        "\n",
        "import plotly.express as px\n",
        "import seaborn as sns"
      ]
    },
    {
      "cell_type": "markdown",
      "metadata": {
        "id": "ptuchJt-cLlo"
      },
      "source": [
        "### Data Scraping Eirgrid data"
      ]
    },
    {
      "cell_type": "markdown",
      "metadata": {
        "id": "pGD37xebcbKs"
      },
      "source": [
        "This data was scape form EirGrid Dashbored - https://www.smartgriddashboard.com/#all/wind"
      ]
    },
    {
      "cell_type": "markdown",
      "metadata": {
        "id": "B9tud7qwcZX7"
      },
      "source": [
        "**Eirgrid Wind generation**"
      ]
    },
    {
      "cell_type": "code",
      "execution_count": null,
      "metadata": {
        "colab": {
          "base_uri": "https://localhost:8080/"
        },
        "id": "qAKs5hh5cRFl",
        "outputId": "561c8039-7a22-4fd4-d300-1da7b3b25c93"
      },
      "outputs": [
        {
          "name": "stdout",
          "output_type": "stream",
          "text": [
            "http://smartgriddashboard.eirgrid.com/DashboardService.svc/csv?area=windActual&region=ALL&datefrom=01-Jan-2017%2000:00&dateto=31-Jan-2017%2023:59\n",
            "http://smartgriddashboard.eirgrid.com/DashboardService.svc/csv?area=windActual&region=ALL&datefrom=01-Feb-2017%2000:00&dateto=28-Feb-2017%2023:59\n",
            "http://smartgriddashboard.eirgrid.com/DashboardService.svc/csv?area=windActual&region=ALL&datefrom=01-Mar-2017%2000:00&dateto=31-Mar-2017%2023:59\n",
            "http://smartgriddashboard.eirgrid.com/DashboardService.svc/csv?area=windActual&region=ALL&datefrom=01-Apr-2017%2000:00&dateto=30-Apr-2017%2023:59\n",
            "http://smartgriddashboard.eirgrid.com/DashboardService.svc/csv?area=windActual&region=ALL&datefrom=01-May-2017%2000:00&dateto=31-May-2017%2023:59\n",
            "http://smartgriddashboard.eirgrid.com/DashboardService.svc/csv?area=windActual&region=ALL&datefrom=01-Jun-2017%2000:00&dateto=30-Jun-2017%2023:59\n",
            "http://smartgriddashboard.eirgrid.com/DashboardService.svc/csv?area=windActual&region=ALL&datefrom=01-Jul-2017%2000:00&dateto=31-Jul-2017%2023:59\n",
            "http://smartgriddashboard.eirgrid.com/DashboardService.svc/csv?area=windActual&region=ALL&datefrom=01-Aug-2017%2000:00&dateto=31-Aug-2017%2023:59\n",
            "http://smartgriddashboard.eirgrid.com/DashboardService.svc/csv?area=windActual&region=ALL&datefrom=01-Sep-2017%2000:00&dateto=30-Sep-2017%2023:59\n",
            "http://smartgriddashboard.eirgrid.com/DashboardService.svc/csv?area=windActual&region=ALL&datefrom=01-Oct-2017%2000:00&dateto=31-Oct-2017%2023:59\n",
            "http://smartgriddashboard.eirgrid.com/DashboardService.svc/csv?area=windActual&region=ALL&datefrom=01-Nov-2017%2000:00&dateto=30-Nov-2017%2023:59\n",
            "http://smartgriddashboard.eirgrid.com/DashboardService.svc/csv?area=windActual&region=ALL&datefrom=01-Dec-2017%2000:00&dateto=31-Dec-2017%2023:59\n",
            "http://smartgriddashboard.eirgrid.com/DashboardService.svc/csv?area=windActual&region=ALL&datefrom=01-Jan-2018%2000:00&dateto=31-Jan-2018%2023:59\n",
            "http://smartgriddashboard.eirgrid.com/DashboardService.svc/csv?area=windActual&region=ALL&datefrom=01-Feb-2018%2000:00&dateto=28-Feb-2018%2023:59\n",
            "http://smartgriddashboard.eirgrid.com/DashboardService.svc/csv?area=windActual&region=ALL&datefrom=01-Mar-2018%2000:00&dateto=31-Mar-2018%2023:59\n",
            "http://smartgriddashboard.eirgrid.com/DashboardService.svc/csv?area=windActual&region=ALL&datefrom=01-Apr-2018%2000:00&dateto=30-Apr-2018%2023:59\n",
            "http://smartgriddashboard.eirgrid.com/DashboardService.svc/csv?area=windActual&region=ALL&datefrom=01-May-2018%2000:00&dateto=31-May-2018%2023:59\n",
            "http://smartgriddashboard.eirgrid.com/DashboardService.svc/csv?area=windActual&region=ALL&datefrom=01-Jun-2018%2000:00&dateto=30-Jun-2018%2023:59\n",
            "http://smartgriddashboard.eirgrid.com/DashboardService.svc/csv?area=windActual&region=ALL&datefrom=01-Jul-2018%2000:00&dateto=31-Jul-2018%2023:59\n",
            "http://smartgriddashboard.eirgrid.com/DashboardService.svc/csv?area=windActual&region=ALL&datefrom=01-Aug-2018%2000:00&dateto=31-Aug-2018%2023:59\n",
            "http://smartgriddashboard.eirgrid.com/DashboardService.svc/csv?area=windActual&region=ALL&datefrom=01-Sep-2018%2000:00&dateto=30-Sep-2018%2023:59\n",
            "http://smartgriddashboard.eirgrid.com/DashboardService.svc/csv?area=windActual&region=ALL&datefrom=01-Oct-2018%2000:00&dateto=31-Oct-2018%2023:59\n",
            "http://smartgriddashboard.eirgrid.com/DashboardService.svc/csv?area=windActual&region=ALL&datefrom=01-Nov-2018%2000:00&dateto=30-Nov-2018%2023:59\n",
            "http://smartgriddashboard.eirgrid.com/DashboardService.svc/csv?area=windActual&region=ALL&datefrom=01-Dec-2018%2000:00&dateto=31-Dec-2018%2023:59\n",
            "http://smartgriddashboard.eirgrid.com/DashboardService.svc/csv?area=windActual&region=ALL&datefrom=01-Jan-2019%2000:00&dateto=31-Jan-2019%2023:59\n",
            "http://smartgriddashboard.eirgrid.com/DashboardService.svc/csv?area=windActual&region=ALL&datefrom=01-Feb-2019%2000:00&dateto=28-Feb-2019%2023:59\n",
            "http://smartgriddashboard.eirgrid.com/DashboardService.svc/csv?area=windActual&region=ALL&datefrom=01-Mar-2019%2000:00&dateto=31-Mar-2019%2023:59\n",
            "http://smartgriddashboard.eirgrid.com/DashboardService.svc/csv?area=windActual&region=ALL&datefrom=01-Apr-2019%2000:00&dateto=30-Apr-2019%2023:59\n",
            "http://smartgriddashboard.eirgrid.com/DashboardService.svc/csv?area=windActual&region=ALL&datefrom=01-May-2019%2000:00&dateto=31-May-2019%2023:59\n",
            "http://smartgriddashboard.eirgrid.com/DashboardService.svc/csv?area=windActual&region=ALL&datefrom=01-Jun-2019%2000:00&dateto=30-Jun-2019%2023:59\n",
            "http://smartgriddashboard.eirgrid.com/DashboardService.svc/csv?area=windActual&region=ALL&datefrom=01-Jul-2019%2000:00&dateto=31-Jul-2019%2023:59\n",
            "http://smartgriddashboard.eirgrid.com/DashboardService.svc/csv?area=windActual&region=ALL&datefrom=01-Aug-2019%2000:00&dateto=31-Aug-2019%2023:59\n",
            "http://smartgriddashboard.eirgrid.com/DashboardService.svc/csv?area=windActual&region=ALL&datefrom=01-Sep-2019%2000:00&dateto=30-Sep-2019%2023:59\n",
            "http://smartgriddashboard.eirgrid.com/DashboardService.svc/csv?area=windActual&region=ALL&datefrom=01-Oct-2019%2000:00&dateto=31-Oct-2019%2023:59\n",
            "http://smartgriddashboard.eirgrid.com/DashboardService.svc/csv?area=windActual&region=ALL&datefrom=01-Nov-2019%2000:00&dateto=30-Nov-2019%2023:59\n",
            "http://smartgriddashboard.eirgrid.com/DashboardService.svc/csv?area=windActual&region=ALL&datefrom=01-Dec-2019%2000:00&dateto=31-Dec-2019%2023:59\n",
            "http://smartgriddashboard.eirgrid.com/DashboardService.svc/csv?area=windActual&region=ALL&datefrom=01-Jan-2020%2000:00&dateto=31-Jan-2020%2023:59\n",
            "http://smartgriddashboard.eirgrid.com/DashboardService.svc/csv?area=windActual&region=ALL&datefrom=01-Feb-2020%2000:00&dateto=29-Feb-2020%2023:59\n",
            "http://smartgriddashboard.eirgrid.com/DashboardService.svc/csv?area=windActual&region=ALL&datefrom=01-Mar-2020%2000:00&dateto=31-Mar-2020%2023:59\n",
            "http://smartgriddashboard.eirgrid.com/DashboardService.svc/csv?area=windActual&region=ALL&datefrom=01-Apr-2020%2000:00&dateto=30-Apr-2020%2023:59\n",
            "http://smartgriddashboard.eirgrid.com/DashboardService.svc/csv?area=windActual&region=ALL&datefrom=01-May-2020%2000:00&dateto=31-May-2020%2023:59\n",
            "http://smartgriddashboard.eirgrid.com/DashboardService.svc/csv?area=windActual&region=ALL&datefrom=01-Jun-2020%2000:00&dateto=30-Jun-2020%2023:59\n",
            "http://smartgriddashboard.eirgrid.com/DashboardService.svc/csv?area=windActual&region=ALL&datefrom=01-Jul-2020%2000:00&dateto=31-Jul-2020%2023:59\n",
            "http://smartgriddashboard.eirgrid.com/DashboardService.svc/csv?area=windActual&region=ALL&datefrom=01-Aug-2020%2000:00&dateto=31-Aug-2020%2023:59\n",
            "http://smartgriddashboard.eirgrid.com/DashboardService.svc/csv?area=windActual&region=ALL&datefrom=01-Sep-2020%2000:00&dateto=30-Sep-2020%2023:59\n",
            "http://smartgriddashboard.eirgrid.com/DashboardService.svc/csv?area=windActual&region=ALL&datefrom=01-Oct-2020%2000:00&dateto=31-Oct-2020%2023:59\n",
            "http://smartgriddashboard.eirgrid.com/DashboardService.svc/csv?area=windActual&region=ALL&datefrom=01-Nov-2020%2000:00&dateto=30-Nov-2020%2023:59\n",
            "http://smartgriddashboard.eirgrid.com/DashboardService.svc/csv?area=windActual&region=ALL&datefrom=01-Dec-2020%2000:00&dateto=31-Dec-2020%2023:59\n",
            "http://smartgriddashboard.eirgrid.com/DashboardService.svc/csv?area=windActual&region=ALL&datefrom=01-Jan-2021%2000:00&dateto=31-Jan-2021%2023:59\n",
            "http://smartgriddashboard.eirgrid.com/DashboardService.svc/csv?area=windActual&region=ALL&datefrom=01-Feb-2021%2000:00&dateto=28-Feb-2021%2023:59\n",
            "http://smartgriddashboard.eirgrid.com/DashboardService.svc/csv?area=windActual&region=ALL&datefrom=01-Mar-2021%2000:00&dateto=31-Mar-2021%2023:59\n",
            "http://smartgriddashboard.eirgrid.com/DashboardService.svc/csv?area=windActual&region=ALL&datefrom=01-Apr-2021%2000:00&dateto=30-Apr-2021%2023:59\n",
            "http://smartgriddashboard.eirgrid.com/DashboardService.svc/csv?area=windActual&region=ALL&datefrom=01-May-2021%2000:00&dateto=31-May-2021%2023:59\n",
            "http://smartgriddashboard.eirgrid.com/DashboardService.svc/csv?area=windActual&region=ALL&datefrom=01-Jun-2021%2000:00&dateto=30-Jun-2021%2023:59\n",
            "http://smartgriddashboard.eirgrid.com/DashboardService.svc/csv?area=windActual&region=ALL&datefrom=01-Jul-2021%2000:00&dateto=31-Jul-2021%2023:59\n",
            "http://smartgriddashboard.eirgrid.com/DashboardService.svc/csv?area=windActual&region=ALL&datefrom=01-Aug-2021%2000:00&dateto=31-Aug-2021%2023:59\n",
            "http://smartgriddashboard.eirgrid.com/DashboardService.svc/csv?area=windActual&region=ALL&datefrom=01-Sep-2021%2000:00&dateto=30-Sep-2021%2023:59\n"
          ]
        }
      ],
      "source": [
        "\n",
        "#sample_url  = 'https://www.smartgriddashboard.com/DashboardService.svc/data?area=windactual&region=ALL&datefrom=01-Jan-2022+00%3A00&dateto=31-Jan-2023+23%3A59'\n",
        "\n",
        "sample_url = 'http://smartgriddashboard.eirgrid.com/DashboardService.svc/csv?area=windActual&region=ALL&datefrom=01-Jan-2018%2000:00&dateto=31-Jan-2018%2023:59'\n",
        "\n",
        "url_base = 'http://smartgriddashboard.eirgrid.com/DashboardService.svc/csv?area=windActual&region=ALL&datefrom=01-'\n",
        "url_mid = '%2000:00&dateto='\n",
        "url_end = '%2023:59'\n",
        "\n",
        "years = ['2017', '2018', '2019', '2020', '2021']\n",
        "  #years = ['2020', '2021']\n",
        "months = ['Jan', 'Feb', 'Mar', 'Apr', 'May', 'Jun', 'Jul', 'Aug', 'Sep', 'Oct', 'Nov', 'Dec']\n",
        "endDay= [31, 28, 31, 30, 31, 30, 31, 31, 30, 31, 30, 31]\n",
        "tempds = []\n",
        "months_years = []\n",
        "\n",
        "for year in years:\n",
        "    i = 0\n",
        "    for month in months:\n",
        "      # Stop after Aug 2021\n",
        "      endday = endDay[i]\n",
        "      if (year == '2021') & (month == 'Oct'):\n",
        "        break\n",
        "      elif (year == '2020') & (month == 'Feb'):\n",
        "        endday = 29\n",
        "\n",
        "      url = url_base + month + '-' + year + url_mid + str(endday) + '-' + month + '-' + year + url_end\n",
        "      i = i+1\n",
        "      print(url)\n",
        "      s = requests.get(url).content\n",
        "\n",
        "      mds = pd.read_csv(io.StringIO(s.decode('utf-8')), na_values='-')\n",
        "      mds['date'] = pd.to_datetime(mds[\"DATE & TIME\"], infer_datetime_format=True, errors='ignore')\n",
        "      DT = pd.to_datetime(mds[\"DATE & TIME\"], infer_datetime_format=True, errors='ignore').dt\n",
        "      mds['Year'] = DT.year\n",
        "      mds['Month'] = DT.strftime('%b')\n",
        "      mds['DayTime'] = DT.strftime('%d, %R')\n",
        "      tempds.append(mds)\n",
        "      months_years.append(month + '-' + year)\n",
        "\n",
        "\n",
        "wgds = pd.concat(tempds, keys=months_years)\n",
        "\n",
        "wgds = wgds.reset_index()\n",
        "wgds = wgds.drop('level_0', axis=1)\n",
        "wgds = wgds.drop('level_1', axis=1)\n",
        "wgds = wgds.drop('DATE & TIME', axis=1)\n",
        "\n"
      ]
    },
    {
      "cell_type": "markdown",
      "metadata": {
        "id": "HydWbJDHclXM"
      },
      "source": [
        "**Eirgrid Actual System Generation**"
      ]
    },
    {
      "cell_type": "code",
      "execution_count": null,
      "metadata": {
        "colab": {
          "background_save": true,
          "base_uri": "https://localhost:8080/"
        },
        "id": "WNSaCa4dco82",
        "outputId": "cc622199-9771-4b5b-bdba-ee90d13b8c9a"
      },
      "outputs": [
        {
          "name": "stdout",
          "output_type": "stream",
          "text": [
            "http://smartgriddashboard.eirgrid.com/DashboardService.svc/csv?area=generationActual&region=ALL&datefrom=01-Jan-2017%2000:00&dateto=31-Jan-2017%2023:59\n",
            "http://smartgriddashboard.eirgrid.com/DashboardService.svc/csv?area=generationActual&region=ALL&datefrom=01-Feb-2017%2000:00&dateto=28-Feb-2017%2023:59\n",
            "http://smartgriddashboard.eirgrid.com/DashboardService.svc/csv?area=generationActual&region=ALL&datefrom=01-Mar-2017%2000:00&dateto=31-Mar-2017%2023:59\n",
            "http://smartgriddashboard.eirgrid.com/DashboardService.svc/csv?area=generationActual&region=ALL&datefrom=01-Apr-2017%2000:00&dateto=30-Apr-2017%2023:59\n",
            "http://smartgriddashboard.eirgrid.com/DashboardService.svc/csv?area=generationActual&region=ALL&datefrom=01-May-2017%2000:00&dateto=31-May-2017%2023:59\n",
            "http://smartgriddashboard.eirgrid.com/DashboardService.svc/csv?area=generationActual&region=ALL&datefrom=01-Jun-2017%2000:00&dateto=30-Jun-2017%2023:59\n",
            "http://smartgriddashboard.eirgrid.com/DashboardService.svc/csv?area=generationActual&region=ALL&datefrom=01-Jul-2017%2000:00&dateto=31-Jul-2017%2023:59\n",
            "http://smartgriddashboard.eirgrid.com/DashboardService.svc/csv?area=generationActual&region=ALL&datefrom=01-Aug-2017%2000:00&dateto=31-Aug-2017%2023:59\n",
            "http://smartgriddashboard.eirgrid.com/DashboardService.svc/csv?area=generationActual&region=ALL&datefrom=01-Sep-2017%2000:00&dateto=30-Sep-2017%2023:59\n",
            "http://smartgriddashboard.eirgrid.com/DashboardService.svc/csv?area=generationActual&region=ALL&datefrom=01-Oct-2017%2000:00&dateto=31-Oct-2017%2023:59\n",
            "http://smartgriddashboard.eirgrid.com/DashboardService.svc/csv?area=generationActual&region=ALL&datefrom=01-Nov-2017%2000:00&dateto=30-Nov-2017%2023:59\n",
            "http://smartgriddashboard.eirgrid.com/DashboardService.svc/csv?area=generationActual&region=ALL&datefrom=01-Dec-2017%2000:00&dateto=31-Dec-2017%2023:59\n",
            "http://smartgriddashboard.eirgrid.com/DashboardService.svc/csv?area=generationActual&region=ALL&datefrom=01-Jan-2018%2000:00&dateto=31-Jan-2018%2023:59\n",
            "http://smartgriddashboard.eirgrid.com/DashboardService.svc/csv?area=generationActual&region=ALL&datefrom=01-Feb-2018%2000:00&dateto=28-Feb-2018%2023:59\n",
            "http://smartgriddashboard.eirgrid.com/DashboardService.svc/csv?area=generationActual&region=ALL&datefrom=01-Mar-2018%2000:00&dateto=31-Mar-2018%2023:59\n",
            "http://smartgriddashboard.eirgrid.com/DashboardService.svc/csv?area=generationActual&region=ALL&datefrom=01-Apr-2018%2000:00&dateto=30-Apr-2018%2023:59\n",
            "http://smartgriddashboard.eirgrid.com/DashboardService.svc/csv?area=generationActual&region=ALL&datefrom=01-May-2018%2000:00&dateto=31-May-2018%2023:59\n",
            "http://smartgriddashboard.eirgrid.com/DashboardService.svc/csv?area=generationActual&region=ALL&datefrom=01-Jun-2018%2000:00&dateto=30-Jun-2018%2023:59\n",
            "http://smartgriddashboard.eirgrid.com/DashboardService.svc/csv?area=generationActual&region=ALL&datefrom=01-Jul-2018%2000:00&dateto=31-Jul-2018%2023:59\n",
            "http://smartgriddashboard.eirgrid.com/DashboardService.svc/csv?area=generationActual&region=ALL&datefrom=01-Aug-2018%2000:00&dateto=31-Aug-2018%2023:59\n",
            "http://smartgriddashboard.eirgrid.com/DashboardService.svc/csv?area=generationActual&region=ALL&datefrom=01-Sep-2018%2000:00&dateto=30-Sep-2018%2023:59\n",
            "http://smartgriddashboard.eirgrid.com/DashboardService.svc/csv?area=generationActual&region=ALL&datefrom=01-Oct-2018%2000:00&dateto=31-Oct-2018%2023:59\n",
            "http://smartgriddashboard.eirgrid.com/DashboardService.svc/csv?area=generationActual&region=ALL&datefrom=01-Nov-2018%2000:00&dateto=30-Nov-2018%2023:59\n",
            "http://smartgriddashboard.eirgrid.com/DashboardService.svc/csv?area=generationActual&region=ALL&datefrom=01-Dec-2018%2000:00&dateto=31-Dec-2018%2023:59\n",
            "http://smartgriddashboard.eirgrid.com/DashboardService.svc/csv?area=generationActual&region=ALL&datefrom=01-Jan-2019%2000:00&dateto=31-Jan-2019%2023:59\n",
            "http://smartgriddashboard.eirgrid.com/DashboardService.svc/csv?area=generationActual&region=ALL&datefrom=01-Feb-2019%2000:00&dateto=28-Feb-2019%2023:59\n",
            "http://smartgriddashboard.eirgrid.com/DashboardService.svc/csv?area=generationActual&region=ALL&datefrom=01-Mar-2019%2000:00&dateto=31-Mar-2019%2023:59\n",
            "http://smartgriddashboard.eirgrid.com/DashboardService.svc/csv?area=generationActual&region=ALL&datefrom=01-Apr-2019%2000:00&dateto=30-Apr-2019%2023:59\n",
            "http://smartgriddashboard.eirgrid.com/DashboardService.svc/csv?area=generationActual&region=ALL&datefrom=01-May-2019%2000:00&dateto=31-May-2019%2023:59\n",
            "http://smartgriddashboard.eirgrid.com/DashboardService.svc/csv?area=generationActual&region=ALL&datefrom=01-Jun-2019%2000:00&dateto=30-Jun-2019%2023:59\n",
            "http://smartgriddashboard.eirgrid.com/DashboardService.svc/csv?area=generationActual&region=ALL&datefrom=01-Jul-2019%2000:00&dateto=31-Jul-2019%2023:59\n",
            "http://smartgriddashboard.eirgrid.com/DashboardService.svc/csv?area=generationActual&region=ALL&datefrom=01-Aug-2019%2000:00&dateto=31-Aug-2019%2023:59\n",
            "http://smartgriddashboard.eirgrid.com/DashboardService.svc/csv?area=generationActual&region=ALL&datefrom=01-Sep-2019%2000:00&dateto=30-Sep-2019%2023:59\n",
            "http://smartgriddashboard.eirgrid.com/DashboardService.svc/csv?area=generationActual&region=ALL&datefrom=01-Oct-2019%2000:00&dateto=31-Oct-2019%2023:59\n",
            "http://smartgriddashboard.eirgrid.com/DashboardService.svc/csv?area=generationActual&region=ALL&datefrom=01-Nov-2019%2000:00&dateto=30-Nov-2019%2023:59\n",
            "http://smartgriddashboard.eirgrid.com/DashboardService.svc/csv?area=generationActual&region=ALL&datefrom=01-Dec-2019%2000:00&dateto=31-Dec-2019%2023:59\n",
            "http://smartgriddashboard.eirgrid.com/DashboardService.svc/csv?area=generationActual&region=ALL&datefrom=01-Jan-2020%2000:00&dateto=31-Jan-2020%2023:59\n",
            "http://smartgriddashboard.eirgrid.com/DashboardService.svc/csv?area=generationActual&region=ALL&datefrom=01-Feb-2020%2000:00&dateto=29-Feb-2020%2023:59\n",
            "http://smartgriddashboard.eirgrid.com/DashboardService.svc/csv?area=generationActual&region=ALL&datefrom=01-Mar-2020%2000:00&dateto=31-Mar-2020%2023:59\n",
            "http://smartgriddashboard.eirgrid.com/DashboardService.svc/csv?area=generationActual&region=ALL&datefrom=01-Apr-2020%2000:00&dateto=30-Apr-2020%2023:59\n",
            "http://smartgriddashboard.eirgrid.com/DashboardService.svc/csv?area=generationActual&region=ALL&datefrom=01-May-2020%2000:00&dateto=31-May-2020%2023:59\n",
            "http://smartgriddashboard.eirgrid.com/DashboardService.svc/csv?area=generationActual&region=ALL&datefrom=01-Jun-2020%2000:00&dateto=30-Jun-2020%2023:59\n",
            "http://smartgriddashboard.eirgrid.com/DashboardService.svc/csv?area=generationActual&region=ALL&datefrom=01-Jul-2020%2000:00&dateto=31-Jul-2020%2023:59\n",
            "http://smartgriddashboard.eirgrid.com/DashboardService.svc/csv?area=generationActual&region=ALL&datefrom=01-Aug-2020%2000:00&dateto=31-Aug-2020%2023:59\n",
            "http://smartgriddashboard.eirgrid.com/DashboardService.svc/csv?area=generationActual&region=ALL&datefrom=01-Sep-2020%2000:00&dateto=30-Sep-2020%2023:59\n",
            "http://smartgriddashboard.eirgrid.com/DashboardService.svc/csv?area=generationActual&region=ALL&datefrom=01-Oct-2020%2000:00&dateto=31-Oct-2020%2023:59\n",
            "http://smartgriddashboard.eirgrid.com/DashboardService.svc/csv?area=generationActual&region=ALL&datefrom=01-Nov-2020%2000:00&dateto=30-Nov-2020%2023:59\n",
            "http://smartgriddashboard.eirgrid.com/DashboardService.svc/csv?area=generationActual&region=ALL&datefrom=01-Dec-2020%2000:00&dateto=31-Dec-2020%2023:59\n",
            "http://smartgriddashboard.eirgrid.com/DashboardService.svc/csv?area=generationActual&region=ALL&datefrom=01-Jan-2021%2000:00&dateto=31-Jan-2021%2023:59\n",
            "http://smartgriddashboard.eirgrid.com/DashboardService.svc/csv?area=generationActual&region=ALL&datefrom=01-Feb-2021%2000:00&dateto=28-Feb-2021%2023:59\n",
            "http://smartgriddashboard.eirgrid.com/DashboardService.svc/csv?area=generationActual&region=ALL&datefrom=01-Mar-2021%2000:00&dateto=31-Mar-2021%2023:59\n",
            "http://smartgriddashboard.eirgrid.com/DashboardService.svc/csv?area=generationActual&region=ALL&datefrom=01-Apr-2021%2000:00&dateto=30-Apr-2021%2023:59\n",
            "http://smartgriddashboard.eirgrid.com/DashboardService.svc/csv?area=generationActual&region=ALL&datefrom=01-May-2021%2000:00&dateto=31-May-2021%2023:59\n",
            "http://smartgriddashboard.eirgrid.com/DashboardService.svc/csv?area=generationActual&region=ALL&datefrom=01-Jun-2021%2000:00&dateto=30-Jun-2021%2023:59\n",
            "http://smartgriddashboard.eirgrid.com/DashboardService.svc/csv?area=generationActual&region=ALL&datefrom=01-Jul-2021%2000:00&dateto=31-Jul-2021%2023:59\n",
            "http://smartgriddashboard.eirgrid.com/DashboardService.svc/csv?area=generationActual&region=ALL&datefrom=01-Aug-2021%2000:00&dateto=31-Aug-2021%2023:59\n",
            "http://smartgriddashboard.eirgrid.com/DashboardService.svc/csv?area=generationActual&region=ALL&datefrom=01-Sep-2021%2000:00&dateto=30-Sep-2021%2023:59\n"
          ]
        }
      ],
      "source": [
        "\n",
        "  # Wind energy Actual and Prediction\n",
        "sample_url = 'http://smartgriddashboard.eirgrid.com/DashboardService.svc/csv?area=generationActual&region=ALL&datefrom=23-Jan-2021%2000:00&dateto=21-Feb-2021%2001:15'\n",
        "\n",
        "url_base = 'http://smartgriddashboard.eirgrid.com/DashboardService.svc/csv?area=generationActual&region=ALL&datefrom=01-'\n",
        "\n",
        "tempds = []\n",
        "months_years = []\n",
        "\n",
        "for year in years:\n",
        "    i = 0\n",
        "    for month in months:\n",
        "      # Stop after Feb 2021\n",
        "      endday = endDay[i]\n",
        "      if (year == '2021') & (month == 'Oct'):\n",
        "        break\n",
        "      elif (year == '2020') & (month == 'Feb'):\n",
        "        endday = 29\n",
        "\n",
        "      url = url_base + month + '-' + year + url_mid + str(endday) + '-' + month + '-' + year + url_end\n",
        "      i = i+1\n",
        "      print(url)\n",
        "      s = requests.get(url).content\n",
        "\n",
        "      mds = pd.read_csv(io.StringIO(s.decode('utf-8')), na_values='-')\n",
        "      mds['date'] = pd.to_datetime(mds[\"DATE & TIME\"], infer_datetime_format=True, errors='ignore')\n",
        "      DT = pd.to_datetime(mds[\"DATE & TIME\"], infer_datetime_format=True, errors='ignore').dt\n",
        "      mds['Year'] = DT.year\n",
        "      mds['Month'] = DT.strftime('%b')\n",
        "      mds['DayTime'] = DT.strftime('%d, %R')\n",
        "      tempds.append(mds)\n",
        "      months_years.append(month + '-' + year)\n",
        "      #url = 'http://smartgriddashboard.eirgrid.com/DashboardService.svc/csv?area=windActual&region=ALL&datefrom=01-Dec-2020%2000:00&dateto=31-Dec-2020%2023:59'\n",
        "\n",
        "\n",
        "sgds = pd.concat(tempds, keys=months_years)\n",
        "\n",
        "sgds = sgds.reset_index()\n",
        "sgds = sgds.drop('level_0', axis=1)\n",
        "sgds = sgds.drop('level_1', axis=1)\n",
        "sgds = sgds.drop('DATE & TIME', axis=1)"
      ]
    },
    {
      "cell_type": "markdown",
      "metadata": {
        "id": "S609sD-_csro"
      },
      "source": [
        "**System Demand: Actual and Prediction**"
      ]
    },
    {
      "cell_type": "code",
      "execution_count": null,
      "metadata": {
        "colab": {
          "background_save": true
        },
        "id": "48QAVdCucunr",
        "outputId": "fd838b82-f953-4cbb-a45f-e117dff787f8"
      },
      "outputs": [
        {
          "name": "stdout",
          "output_type": "stream",
          "text": [
            "http://smartgriddashboard.eirgrid.com/DashboardService.svc/csv?area=demandActual&region=ALL&datefrom=01-Jan-2017%2000:00&dateto=31-Jan-2017%2023:59\n",
            "http://smartgriddashboard.eirgrid.com/DashboardService.svc/csv?area=demandActual&region=ALL&datefrom=01-Feb-2017%2000:00&dateto=28-Feb-2017%2023:59\n",
            "http://smartgriddashboard.eirgrid.com/DashboardService.svc/csv?area=demandActual&region=ALL&datefrom=01-Mar-2017%2000:00&dateto=31-Mar-2017%2023:59\n",
            "http://smartgriddashboard.eirgrid.com/DashboardService.svc/csv?area=demandActual&region=ALL&datefrom=01-Apr-2017%2000:00&dateto=30-Apr-2017%2023:59\n",
            "http://smartgriddashboard.eirgrid.com/DashboardService.svc/csv?area=demandActual&region=ALL&datefrom=01-May-2017%2000:00&dateto=31-May-2017%2023:59\n",
            "http://smartgriddashboard.eirgrid.com/DashboardService.svc/csv?area=demandActual&region=ALL&datefrom=01-Jun-2017%2000:00&dateto=30-Jun-2017%2023:59\n",
            "http://smartgriddashboard.eirgrid.com/DashboardService.svc/csv?area=demandActual&region=ALL&datefrom=01-Jul-2017%2000:00&dateto=31-Jul-2017%2023:59\n",
            "http://smartgriddashboard.eirgrid.com/DashboardService.svc/csv?area=demandActual&region=ALL&datefrom=01-Aug-2017%2000:00&dateto=31-Aug-2017%2023:59\n",
            "http://smartgriddashboard.eirgrid.com/DashboardService.svc/csv?area=demandActual&region=ALL&datefrom=01-Sep-2017%2000:00&dateto=30-Sep-2017%2023:59\n",
            "http://smartgriddashboard.eirgrid.com/DashboardService.svc/csv?area=demandActual&region=ALL&datefrom=01-Oct-2017%2000:00&dateto=31-Oct-2017%2023:59\n",
            "http://smartgriddashboard.eirgrid.com/DashboardService.svc/csv?area=demandActual&region=ALL&datefrom=01-Nov-2017%2000:00&dateto=30-Nov-2017%2023:59\n",
            "http://smartgriddashboard.eirgrid.com/DashboardService.svc/csv?area=demandActual&region=ALL&datefrom=01-Dec-2017%2000:00&dateto=31-Dec-2017%2023:59\n",
            "http://smartgriddashboard.eirgrid.com/DashboardService.svc/csv?area=demandActual&region=ALL&datefrom=01-Jan-2018%2000:00&dateto=31-Jan-2018%2023:59\n",
            "http://smartgriddashboard.eirgrid.com/DashboardService.svc/csv?area=demandActual&region=ALL&datefrom=01-Feb-2018%2000:00&dateto=28-Feb-2018%2023:59\n",
            "http://smartgriddashboard.eirgrid.com/DashboardService.svc/csv?area=demandActual&region=ALL&datefrom=01-Mar-2018%2000:00&dateto=31-Mar-2018%2023:59\n",
            "http://smartgriddashboard.eirgrid.com/DashboardService.svc/csv?area=demandActual&region=ALL&datefrom=01-Apr-2018%2000:00&dateto=30-Apr-2018%2023:59\n",
            "http://smartgriddashboard.eirgrid.com/DashboardService.svc/csv?area=demandActual&region=ALL&datefrom=01-May-2018%2000:00&dateto=31-May-2018%2023:59\n",
            "http://smartgriddashboard.eirgrid.com/DashboardService.svc/csv?area=demandActual&region=ALL&datefrom=01-Jun-2018%2000:00&dateto=30-Jun-2018%2023:59\n",
            "http://smartgriddashboard.eirgrid.com/DashboardService.svc/csv?area=demandActual&region=ALL&datefrom=01-Jul-2018%2000:00&dateto=31-Jul-2018%2023:59\n",
            "http://smartgriddashboard.eirgrid.com/DashboardService.svc/csv?area=demandActual&region=ALL&datefrom=01-Aug-2018%2000:00&dateto=31-Aug-2018%2023:59\n",
            "http://smartgriddashboard.eirgrid.com/DashboardService.svc/csv?area=demandActual&region=ALL&datefrom=01-Sep-2018%2000:00&dateto=30-Sep-2018%2023:59\n",
            "http://smartgriddashboard.eirgrid.com/DashboardService.svc/csv?area=demandActual&region=ALL&datefrom=01-Oct-2018%2000:00&dateto=31-Oct-2018%2023:59\n",
            "http://smartgriddashboard.eirgrid.com/DashboardService.svc/csv?area=demandActual&region=ALL&datefrom=01-Nov-2018%2000:00&dateto=30-Nov-2018%2023:59\n",
            "http://smartgriddashboard.eirgrid.com/DashboardService.svc/csv?area=demandActual&region=ALL&datefrom=01-Dec-2018%2000:00&dateto=31-Dec-2018%2023:59\n",
            "http://smartgriddashboard.eirgrid.com/DashboardService.svc/csv?area=demandActual&region=ALL&datefrom=01-Jan-2019%2000:00&dateto=31-Jan-2019%2023:59\n",
            "http://smartgriddashboard.eirgrid.com/DashboardService.svc/csv?area=demandActual&region=ALL&datefrom=01-Feb-2019%2000:00&dateto=28-Feb-2019%2023:59\n"
          ]
        },
        {
          "ename": "KeyError",
          "evalue": "'DATE & TIME'",
          "output_type": "error",
          "traceback": [
            "\u001b[0;31m---------------------------------------------------------------------------\u001b[0m",
            "\u001b[0;31mKeyError\u001b[0m                                  Traceback (most recent call last)",
            "\u001b[0;32m/usr/local/lib/python3.10/dist-packages/pandas/core/indexes/base.py\u001b[0m in \u001b[0;36mget_loc\u001b[0;34m(self, key, method, tolerance)\u001b[0m\n\u001b[1;32m   3801\u001b[0m             \u001b[0;32mtry\u001b[0m\u001b[0;34m:\u001b[0m\u001b[0;34m\u001b[0m\u001b[0;34m\u001b[0m\u001b[0m\n\u001b[0;32m-> 3802\u001b[0;31m                 \u001b[0;32mreturn\u001b[0m \u001b[0mself\u001b[0m\u001b[0;34m.\u001b[0m\u001b[0m_engine\u001b[0m\u001b[0;34m.\u001b[0m\u001b[0mget_loc\u001b[0m\u001b[0;34m(\u001b[0m\u001b[0mcasted_key\u001b[0m\u001b[0;34m)\u001b[0m\u001b[0;34m\u001b[0m\u001b[0;34m\u001b[0m\u001b[0m\n\u001b[0m\u001b[1;32m   3803\u001b[0m             \u001b[0;32mexcept\u001b[0m \u001b[0mKeyError\u001b[0m \u001b[0;32mas\u001b[0m \u001b[0merr\u001b[0m\u001b[0;34m:\u001b[0m\u001b[0;34m\u001b[0m\u001b[0;34m\u001b[0m\u001b[0m\n",
            "\u001b[0;32m/usr/local/lib/python3.10/dist-packages/pandas/_libs/index.pyx\u001b[0m in \u001b[0;36mpandas._libs.index.IndexEngine.get_loc\u001b[0;34m()\u001b[0m\n",
            "\u001b[0;32m/usr/local/lib/python3.10/dist-packages/pandas/_libs/index.pyx\u001b[0m in \u001b[0;36mpandas._libs.index.IndexEngine.get_loc\u001b[0;34m()\u001b[0m\n",
            "\u001b[0;32mpandas/_libs/hashtable_class_helper.pxi\u001b[0m in \u001b[0;36mpandas._libs.hashtable.PyObjectHashTable.get_item\u001b[0;34m()\u001b[0m\n",
            "\u001b[0;32mpandas/_libs/hashtable_class_helper.pxi\u001b[0m in \u001b[0;36mpandas._libs.hashtable.PyObjectHashTable.get_item\u001b[0;34m()\u001b[0m\n",
            "\u001b[0;31mKeyError\u001b[0m: 'DATE & TIME'",
            "\nThe above exception was the direct cause of the following exception:\n",
            "\u001b[0;31mKeyError\u001b[0m                                  Traceback (most recent call last)",
            "\u001b[0;32m<ipython-input-9-ab21e049ac51>\u001b[0m in \u001b[0;36m<cell line: 8>\u001b[0;34m()\u001b[0m\n\u001b[1;32m     21\u001b[0m \u001b[0;34m\u001b[0m\u001b[0m\n\u001b[1;32m     22\u001b[0m     \u001b[0mmds\u001b[0m \u001b[0;34m=\u001b[0m \u001b[0mpd\u001b[0m\u001b[0;34m.\u001b[0m\u001b[0mread_csv\u001b[0m\u001b[0;34m(\u001b[0m\u001b[0mio\u001b[0m\u001b[0;34m.\u001b[0m\u001b[0mStringIO\u001b[0m\u001b[0;34m(\u001b[0m\u001b[0ms\u001b[0m\u001b[0;34m.\u001b[0m\u001b[0mdecode\u001b[0m\u001b[0;34m(\u001b[0m\u001b[0;34m'utf-8'\u001b[0m\u001b[0;34m)\u001b[0m\u001b[0;34m)\u001b[0m\u001b[0;34m,\u001b[0m \u001b[0mna_values\u001b[0m\u001b[0;34m=\u001b[0m\u001b[0;34m'-'\u001b[0m\u001b[0;34m)\u001b[0m\u001b[0;34m\u001b[0m\u001b[0;34m\u001b[0m\u001b[0m\n\u001b[0;32m---> 23\u001b[0;31m     \u001b[0mmds\u001b[0m\u001b[0;34m[\u001b[0m\u001b[0;34m'date'\u001b[0m\u001b[0;34m]\u001b[0m \u001b[0;34m=\u001b[0m \u001b[0mpd\u001b[0m\u001b[0;34m.\u001b[0m\u001b[0mto_datetime\u001b[0m\u001b[0;34m(\u001b[0m\u001b[0mmds\u001b[0m\u001b[0;34m[\u001b[0m\u001b[0;34m\"DATE & TIME\"\u001b[0m\u001b[0;34m]\u001b[0m\u001b[0;34m,\u001b[0m \u001b[0minfer_datetime_format\u001b[0m\u001b[0;34m=\u001b[0m\u001b[0;32mTrue\u001b[0m\u001b[0;34m,\u001b[0m \u001b[0merrors\u001b[0m\u001b[0;34m=\u001b[0m\u001b[0;34m'ignore'\u001b[0m\u001b[0;34m)\u001b[0m\u001b[0;34m\u001b[0m\u001b[0;34m\u001b[0m\u001b[0m\n\u001b[0m\u001b[1;32m     24\u001b[0m     \u001b[0mDT\u001b[0m \u001b[0;34m=\u001b[0m \u001b[0mpd\u001b[0m\u001b[0;34m.\u001b[0m\u001b[0mto_datetime\u001b[0m\u001b[0;34m(\u001b[0m\u001b[0mmds\u001b[0m\u001b[0;34m[\u001b[0m\u001b[0;34m\"DATE & TIME\"\u001b[0m\u001b[0;34m]\u001b[0m\u001b[0;34m,\u001b[0m \u001b[0minfer_datetime_format\u001b[0m\u001b[0;34m=\u001b[0m\u001b[0;32mTrue\u001b[0m\u001b[0;34m,\u001b[0m \u001b[0merrors\u001b[0m\u001b[0;34m=\u001b[0m\u001b[0;34m'ignore'\u001b[0m\u001b[0;34m)\u001b[0m\u001b[0;34m.\u001b[0m\u001b[0mdt\u001b[0m\u001b[0;34m\u001b[0m\u001b[0;34m\u001b[0m\u001b[0m\n\u001b[1;32m     25\u001b[0m     \u001b[0mmds\u001b[0m\u001b[0;34m[\u001b[0m\u001b[0;34m'Year'\u001b[0m\u001b[0;34m]\u001b[0m \u001b[0;34m=\u001b[0m \u001b[0mDT\u001b[0m\u001b[0;34m.\u001b[0m\u001b[0myear\u001b[0m\u001b[0;34m\u001b[0m\u001b[0;34m\u001b[0m\u001b[0m\n",
            "\u001b[0;32m/usr/local/lib/python3.10/dist-packages/pandas/core/frame.py\u001b[0m in \u001b[0;36m__getitem__\u001b[0;34m(self, key)\u001b[0m\n\u001b[1;32m   3805\u001b[0m             \u001b[0;32mif\u001b[0m \u001b[0mself\u001b[0m\u001b[0;34m.\u001b[0m\u001b[0mcolumns\u001b[0m\u001b[0;34m.\u001b[0m\u001b[0mnlevels\u001b[0m \u001b[0;34m>\u001b[0m \u001b[0;36m1\u001b[0m\u001b[0;34m:\u001b[0m\u001b[0;34m\u001b[0m\u001b[0;34m\u001b[0m\u001b[0m\n\u001b[1;32m   3806\u001b[0m                 \u001b[0;32mreturn\u001b[0m \u001b[0mself\u001b[0m\u001b[0;34m.\u001b[0m\u001b[0m_getitem_multilevel\u001b[0m\u001b[0;34m(\u001b[0m\u001b[0mkey\u001b[0m\u001b[0;34m)\u001b[0m\u001b[0;34m\u001b[0m\u001b[0;34m\u001b[0m\u001b[0m\n\u001b[0;32m-> 3807\u001b[0;31m             \u001b[0mindexer\u001b[0m \u001b[0;34m=\u001b[0m \u001b[0mself\u001b[0m\u001b[0;34m.\u001b[0m\u001b[0mcolumns\u001b[0m\u001b[0;34m.\u001b[0m\u001b[0mget_loc\u001b[0m\u001b[0;34m(\u001b[0m\u001b[0mkey\u001b[0m\u001b[0;34m)\u001b[0m\u001b[0;34m\u001b[0m\u001b[0;34m\u001b[0m\u001b[0m\n\u001b[0m\u001b[1;32m   3808\u001b[0m             \u001b[0;32mif\u001b[0m \u001b[0mis_integer\u001b[0m\u001b[0;34m(\u001b[0m\u001b[0mindexer\u001b[0m\u001b[0;34m)\u001b[0m\u001b[0;34m:\u001b[0m\u001b[0;34m\u001b[0m\u001b[0;34m\u001b[0m\u001b[0m\n\u001b[1;32m   3809\u001b[0m                 \u001b[0mindexer\u001b[0m \u001b[0;34m=\u001b[0m \u001b[0;34m[\u001b[0m\u001b[0mindexer\u001b[0m\u001b[0;34m]\u001b[0m\u001b[0;34m\u001b[0m\u001b[0;34m\u001b[0m\u001b[0m\n",
            "\u001b[0;32m/usr/local/lib/python3.10/dist-packages/pandas/core/indexes/base.py\u001b[0m in \u001b[0;36mget_loc\u001b[0;34m(self, key, method, tolerance)\u001b[0m\n\u001b[1;32m   3802\u001b[0m                 \u001b[0;32mreturn\u001b[0m \u001b[0mself\u001b[0m\u001b[0;34m.\u001b[0m\u001b[0m_engine\u001b[0m\u001b[0;34m.\u001b[0m\u001b[0mget_loc\u001b[0m\u001b[0;34m(\u001b[0m\u001b[0mcasted_key\u001b[0m\u001b[0;34m)\u001b[0m\u001b[0;34m\u001b[0m\u001b[0;34m\u001b[0m\u001b[0m\n\u001b[1;32m   3803\u001b[0m             \u001b[0;32mexcept\u001b[0m \u001b[0mKeyError\u001b[0m \u001b[0;32mas\u001b[0m \u001b[0merr\u001b[0m\u001b[0;34m:\u001b[0m\u001b[0;34m\u001b[0m\u001b[0;34m\u001b[0m\u001b[0m\n\u001b[0;32m-> 3804\u001b[0;31m                 \u001b[0;32mraise\u001b[0m \u001b[0mKeyError\u001b[0m\u001b[0;34m(\u001b[0m\u001b[0mkey\u001b[0m\u001b[0;34m)\u001b[0m \u001b[0;32mfrom\u001b[0m \u001b[0merr\u001b[0m\u001b[0;34m\u001b[0m\u001b[0;34m\u001b[0m\u001b[0m\n\u001b[0m\u001b[1;32m   3805\u001b[0m             \u001b[0;32mexcept\u001b[0m \u001b[0mTypeError\u001b[0m\u001b[0;34m:\u001b[0m\u001b[0;34m\u001b[0m\u001b[0;34m\u001b[0m\u001b[0m\n\u001b[1;32m   3806\u001b[0m                 \u001b[0;31m# If we have a listlike key, _check_indexing_error will raise\u001b[0m\u001b[0;34m\u001b[0m\u001b[0;34m\u001b[0m\u001b[0m\n",
            "\u001b[0;31mKeyError\u001b[0m: 'DATE & TIME'"
          ]
        }
      ],
      "source": [
        "  # Demand Actual and Prediction\n",
        "sample_url = 'http://smartgriddashboard.eirgrid.com/DashboardService.svc/csv?area=demandActual&region=ALL&datefrom=18-Jan-2021%2000:00&dateto=16-Feb-2021%2023:59'\n",
        "url_base = 'http://smartgriddashboard.eirgrid.com/DashboardService.svc/csv?area=demandActual&region=ALL&datefrom=01-'\n",
        "\n",
        "i = 0\n",
        "tempds = []\n",
        "\n",
        "for year in years:\n",
        "    i = 0\n",
        "    for month in months:\n",
        "       # Stop after Feb 2021\n",
        "      endday = endDay[i]\n",
        "      if (year == '2021') & (month == 'Oct'):\n",
        "        break\n",
        "      elif (year == '2020') & (month == 'Feb'):\n",
        "        endday = 29\n",
        "      url = url_base + month + '-' + year + url_mid + str(endday) + '-' + month + '-' + year + url_end\n",
        "      i = i+1\n",
        "      print(url)\n",
        "      s = requests.get(url).content\n",
        "\n",
        "      mds = pd.read_csv(io.StringIO(s.decode('utf-8')), na_values='-')\n",
        "      mds['date'] = pd.to_datetime(mds[\"DATE & TIME\"], infer_datetime_format=True, errors='ignore')\n",
        "      DT = pd.to_datetime(mds[\"DATE & TIME\"], infer_datetime_format=True, errors='ignore').dt\n",
        "      mds['Year'] = DT.year\n",
        "      mds['Month'] = DT.strftime('%b')\n",
        "      mds['DayTime'] = DT.strftime('%d, %R')\n",
        "      tempds.append(mds)\n",
        "\n",
        "sdds = pd.concat(tempds, keys=months_years)\n",
        "sdds = sdds.reset_index()\n",
        "sdds = sdds.drop('level_0', axis=1)\n",
        "sdds = sdds.drop('level_1', axis=1)\n",
        "sdds = sdds.drop('DATE & TIME', axis=1)"
      ]
    },
    {
      "cell_type": "markdown",
      "metadata": {
        "id": "KZd2W_2Ac08e"
      },
      "source": [
        "**Merge CSV to have all data based on Date and Region: All Island**"
      ]
    },
    {
      "cell_type": "code",
      "execution_count": null,
      "metadata": {
        "id": "ueUJFdsjc4zd"
      },
      "outputs": [],
      "source": [
        "\n",
        "\n",
        "  # Interconnections Actual and Prediction\n",
        "sample_url = 'http://smartgriddashboard.eirgrid.com/DashboardService.svc/csv?area=interconnection&region=ALL&datefrom=27-Jan-2021%2000:00&dateto=25-Feb-2021%2022:00'\n",
        "url_base = 'http://smartgriddashboard.eirgrid.com/DashboardService.svc/csv?area=interconnection&region=ALL&datefrom=01-'\n",
        "\n",
        "url_mid = '%2000:00&dateto='\n",
        "url_end = '%2023:59'\n",
        "\n",
        "tempds = []\n",
        "months_years = []\n",
        "\n",
        "i = 0\n",
        "tempds = []\n",
        "\n",
        "for year in years:\n",
        "    i = 0\n",
        "    for month in months:\n",
        "      # Stop after Feb 2021\n",
        "      endday = endDay[i]\n",
        "      if (year == '2021') & (month == 'Oct'):\n",
        "        break\n",
        "      elif (year == '2020') & (month == 'Feb'):\n",
        "        endday = 29\n",
        "      url = url_base + month + '-' + year + url_mid + str(endday) + '-' + month + '-' + year + url_end\n",
        "      i = i+1\n",
        "      print(url)\n",
        "      s = requests.get(url).content\n",
        "\n",
        "      mds = pd.read_csv(io.StringIO(s.decode('utf-8')), na_values='-')\n",
        "      mds['date'] = pd.to_datetime(mds[\"DATE & TIME\"], infer_datetime_format=True, errors='ignore')\n",
        "      DT = pd.to_datetime(mds[\"DATE & TIME\"], infer_datetime_format=True, errors='ignore').dt\n",
        "      mds['Year'] = DT.year\n",
        "      mds['Month'] = DT.strftime('%b')\n",
        "      mds['DayTime'] = DT.strftime('%d, %R')\n",
        "      tempds.append(mds)\n",
        "      months_years.append(month + '-' + year)\n",
        "\n",
        "icds = pd.concat(tempds, keys=months_years)\n",
        "icds = icds.reset_index()\n",
        "icds = icds.drop('level_0', axis=1)\n",
        "icds = icds.drop('level_1', axis=1)\n",
        "icds = icds.drop('DATE & TIME', axis=1)\n"
      ]
    },
    {
      "cell_type": "markdown",
      "metadata": {
        "id": "5CDnZkBGdCKz"
      },
      "source": [
        "### Merge all of EirGrid data based on Date"
      ]
    },
    {
      "cell_type": "code",
      "execution_count": null,
      "metadata": {
        "id": "sdIgsCWzdNTv"
      },
      "outputs": [],
      "source": [
        "\n",
        "left = sdds.set_index(['date', 'Year', 'Month', 'DayTime', ' REGION'])\n",
        "middle = wgds.set_index(['date', 'Year', 'Month', 'DayTime', ' REGION'])\n",
        "right = sgds.set_index(['date', 'Year', 'Month', 'DayTime', ' REGION'])\n",
        "  #right.index = right.index.tz_convert(None)\n",
        "\n",
        "newdf2 = left.join(middle)\n",
        "newdf2 = newdf.join(right)\n",
        "newdf2 = newdf.reset_index()\n",
        "\n",
        "newdf2 = newdf2.rename(columns={' ACTUAL DEMAND(MW)' : 'ActualDemandMW'})\n",
        "newdf2 = newdf2.rename(columns={'  ACTUAL WIND(MW)' : 'ActualWindMW'})\n",
        "\n",
        "newdf2 = newdf2.rename(columns={' FORECAST WIND(MW)' : 'ForecastWndMW'})\n",
        "newdf2 = newdf2.rename(columns={' ACTUAL GENERATION(MW)' : 'ActualGenerationMW'})\n",
        "\n",
        "\n",
        "  # Region doesn't apply to Interconnections\n",
        "left = newdf2.set_index(['date', 'Year', 'Month', 'DayTime'])\n",
        "right = icds.set_index(['date', 'Year', 'Month', 'DayTime'])\n",
        "newdf2 = left.join(right)\n",
        "newdf2 = newdf2.reset_index()\n",
        "newdf2 = newdf2.rename(columns={' NET TOTAL(MW)': 'NetTotal_MW'})\n",
        "newdf2 = newdf2.rename(columns={' EWIC(MW)': 'EWIC_MW'})\n",
        "newdf2 = newdf2.rename(columns={' MOYLE(MW)': 'MOYLE_MW'})\n",
        "\n",
        "newdf2.to_csv(\"IslandElectricityOnly2017_2020v3.csv\")\n",
        "\n",
        "\n",
        "def settimeatt(row):\n",
        "    row[\"hour\"] = row.date.hour\n",
        "    row[\"isweekday\"] = (row.date.isoweekday() < 6)\n",
        "    row[\"month\"] = row.date.month\n",
        "    row[\"year\"] = row.date.year\n",
        "    return row\n",
        "newdf2 = newdf2.apply(settimeatt, axis='columns')\n",
        "\n",
        "newdf2.head()"
      ]
    },
    {
      "cell_type": "code",
      "execution_count": null,
      "metadata": {
        "id": "T9ifPtuQdTR7"
      },
      "outputs": [],
      "source": [
        "  #fileP = 'IslandElectricityOnly2017_2020v3.csv'\n",
        "fileP = 'IslandElectricityOnly2017_2020v3.csv'\n",
        "newdf2 = pd.read_csv(fileP, parse_dates=[1])\n",
        "\n",
        "newdf2[\"hour\"] = 0\n",
        "newdf2[\"isweekday\"] = False\n",
        "newdf2[\"month\"] = 0\n",
        "newdf2[\"year\"] = 0\n",
        "\n",
        "def settimeatt(row):\n",
        "    row[\"hour\"] = row.date.hour\n",
        "    row[\"isweekday\"] = (row.date.isoweekday() < 6)\n",
        "    row[\"month\"] = row.date.month\n",
        "    row[\"year\"] = row.date.year\n",
        "    return row\n",
        "newdf2 = newdf2.apply(settimeatt, axis='columns')\n",
        "\n",
        "newdf2.head()"
      ]
    },
    {
      "cell_type": "code",
      "execution_count": null,
      "metadata": {
        "id": "Rzzf3G0Adqe-"
      },
      "outputs": [],
      "source": [
        "newdf.columns"
      ]
    },
    {
      "cell_type": "code",
      "execution_count": null,
      "metadata": {
        "id": "vIWIR1NPdsEi"
      },
      "outputs": [],
      "source": [
        "\n",
        "# Checking how many months do we have in our dataset (if the year is complete)\n",
        "newdf.month.unique()"
      ]
    },
    {
      "cell_type": "code",
      "execution_count": null,
      "metadata": {
        "id": "Igmk5lKxdtqk"
      },
      "outputs": [],
      "source": [
        "\n",
        "print('-----------DATA SIZE -------------')\n",
        "print(newdf.shape)           # 10 Columns, 35044 rows\n",
        "count_row = newdf.shape[0]   # 10 Columns\n",
        "count_col = newdf.shape[1]   # 35044 rows\n",
        "print('Rows: ', count_row, ', Columns: ', count_col)\n",
        "\n",
        "print('-----------DATA INFO -------------')\n",
        "print(newdf.info())\n",
        "\n",
        "print('-----------DATA MAX Values -------------')\n",
        "newdf.max()\n",
        "\n",
        "print('-----------DATA COLUMNS-------------')\n",
        "columns = newdf.columns.values.tolist()\n",
        "print (columns)\n",
        "\n",
        "print('-----------BASIC STATISTICS-------------')\n",
        "newdf.tail()"
      ]
    },
    {
      "cell_type": "markdown",
      "metadata": {
        "id": "JcbNdHvjdvyP"
      },
      "source": [
        "## Load Weather Data"
      ]
    },
    {
      "cell_type": "code",
      "execution_count": null,
      "metadata": {
        "id": "QvRb0amwd2lv"
      },
      "outputs": [],
      "source": [
        "import pandas as pd\n",
        "import requests\n",
        "from io import StringIO\n",
        "\n",
        "github_raw_url = 'https://raw.githubusercontent.com/KaylumCassidy/FYP/main/IrelandWeatherData.csv'\n",
        "\n",
        "# Fetch the content of the file\n",
        "response = requests.get(github_raw_url)\n",
        "s = response.content\n",
        "\n",
        "# Read the CSV file into a pandas DataFrame\n",
        "weatherData = pd.read_csv(StringIO(s.decode('utf-8')))\n",
        "\n",
        "# Display the column names\n",
        "print(weatherData.columns)\n",
        "\n",
        "weatherds = pd.read_csv(\"IrelandWeatherData(2).csv\", na_values=\" \")\n",
        "\n",
        "weatherds"
      ]
    },
    {
      "cell_type": "code",
      "execution_count": null,
      "metadata": {
        "id": "saurR2Obd7g0"
      },
      "outputs": [],
      "source": [
        "\n",
        "weatherds.describe()"
      ]
    },
    {
      "cell_type": "code",
      "execution_count": null,
      "metadata": {
        "id": "YoxO9GZsd9WA"
      },
      "outputs": [],
      "source": [
        "# Reduce timeframe 2017-07-01\n",
        "cutOffDate = \"2021-10-01 14:45:00\"\n",
        "weatherds = weatherds[(weatherds.date >= \"2017-07-01 00:00:00\") & (weatherds.date < cutOffDate)]"
      ]
    },
    {
      "cell_type": "code",
      "execution_count": null,
      "metadata": {
        "id": "sZ7jzVpld_l1"
      },
      "outputs": [],
      "source": [
        "weatherds.isnull().sum()[0:50]"
      ]
    },
    {
      "cell_type": "code",
      "execution_count": null,
      "metadata": {
        "id": "rhyPRPnAeBWp"
      },
      "outputs": [],
      "source": [
        "weatherds.isnull().sum()[50:120]"
      ]
    },
    {
      "cell_type": "code",
      "execution_count": null,
      "metadata": {
        "id": "RIaQYSA1eDl8"
      },
      "outputs": [],
      "source": [
        "# Backfill a few missing values\n",
        "weatherds.fillna(method='ffill', limit=3, inplace=True)"
      ]
    },
    {
      "cell_type": "markdown",
      "metadata": {
        "id": "jYkSu14TeIPn"
      },
      "source": [
        "## Merge MetEire and EireGrid dataset"
      ]
    },
    {
      "cell_type": "code",
      "execution_count": null,
      "metadata": {
        "id": "qatumlSSeOrY"
      },
      "outputs": [],
      "source": [
        "import pandas as pd\n",
        "\n",
        "# Assuming df_weather is the DataFrame for the new dataset, and it has the datetime column named 'date'\n",
        "weatherds['date'] = pd.to_datetime(weatherds['date'])\n",
        "\n",
        "# Set the 'date' column as the index\n",
        "weatherds.set_index('date', inplace=True)\n",
        "\n",
        "# Assuming newdf_hourly is the DataFrame from the previous merging and hourly aggregation\n",
        "newdf['date'] = pd.to_datetime(newdf['date'])\n",
        "newdf.set_index('date', inplace=True)\n",
        "\n",
        "# Merge the two DataFrames based on the 'date' column\n",
        "merged_df = newdf.join(weatherds)\n",
        "\n",
        "# Reset the index to have a regular 'date' column\n",
        "merged_df.reset_index(inplace=True)\n",
        "\n",
        "# Forward fill missing values\n",
        "merged_df.fillna(method='ffill', inplace=True)\n",
        "\n",
        "# Save the merged DataFrame to a new CSV file\n",
        "merged_df.to_csv(\"MergedIslandData.csv\", index=False)"
      ]
    },
    {
      "cell_type": "markdown",
      "metadata": {
        "id": "qOxXzmqJecTn"
      },
      "source": [
        "## Change Dataset to hourly not 15 min"
      ]
    },
    {
      "cell_type": "markdown",
      "metadata": {
        "id": "KLyNPyNEUmyV"
      },
      "source": [
        "converts the 'date' column to datetime format, sets it as the index, resamples the data to an hourly frequency, resets the index, and then prints the head of the resulting DataFrame."
      ]
    },
    {
      "cell_type": "code",
      "execution_count": null,
      "metadata": {
        "id": "QVVC_F70eRJX"
      },
      "outputs": [],
      "source": [
        "\n",
        "merged_df['date'] = pd.to_datetime(merged_df['date'])\n",
        "merged_df = merged_df.set_index('date')\n",
        "\n",
        "# Resample to hourly frequency\n",
        "merged_df_hourly = merged_df.resample('H').first()\n",
        "\n",
        "# Reset the index to get back the 'date' column\n",
        "merged_df_hourly = merged_df_hourly.reset_index()\n",
        "\n",
        "# Display the head of the new DataFrame\n",
        "print(merged_df_hourly.head())"
      ]
    },
    {
      "cell_type": "markdown",
      "metadata": {
        "id": "ZYAH4MLUU7QM"
      },
      "source": [
        "So, the combination of resample('H') and first() effectively downsamples the original DataFrame to hourly intervals, choosing the first data point within each hour."
      ]
    },
    {
      "cell_type": "code",
      "execution_count": null,
      "metadata": {
        "id": "SXRli6_zeTH_"
      },
      "outputs": [],
      "source": [
        "# Assuming your new DataFrame is named merged_df_hourly\n",
        "merged_df_hourly.to_csv(\"HourlyMergedData.csv\", index=False)\n"
      ]
    },
    {
      "cell_type": "markdown",
      "metadata": {
        "id": "gybC_I3ugJIx"
      },
      "source": [
        "Dropping unneeded colms"
      ]
    },
    {
      "cell_type": "code",
      "execution_count": null,
      "metadata": {
        "id": "0H_IATaheUti"
      },
      "outputs": [],
      "source": [
        "# Unused indicator numbers\n",
        "merged_df_hourly = merged_df_hourly.drop(['ind', 'ind.1', 'ind.2', 'ind.3', 'ind.4'], axis=1)\n",
        "merged_df_hourly = merged_df_hourly.drop(['ind_BEL', 'ind.1_BEL', 'ind.2_BEL', 'ind.3_BEL', 'ind.4_BEL'], axis=1)\n",
        "merged_df_hourly = merged_df_hourly.drop(['ind_COR', 'ind.1_COR', 'ind.2_COR', 'ind.3_COR', 'ind.4_COR'], axis=1)\n",
        "merged_df_hourly = merged_df_hourly.drop(['ind_DUB', 'ind.1_DUB', 'ind.2_DUB', 'ind.3_DUB', 'ind.4_DUB'], axis=1)\n",
        "merged_df_hourly = merged_df_hourly.drop(['ind_GAL', 'ind.1_GAL', 'ind.2_GAL', 'ind.3_GAL', 'ind.4_GAL'], axis=1)\n",
        "merged_df_hourly = merged_df_hourly.drop(['ind.2_DON', 'ind.3_DON', 'ind.4_DON'], axis=1)\n"
      ]
    },
    {
      "cell_type": "code",
      "execution_count": null,
      "metadata": {
        "id": "FO9JyUQReWhM"
      },
      "outputs": [],
      "source": [
        "\n",
        "merged_df_hourly.head()"
      ]
    },
    {
      "cell_type": "code",
      "execution_count": null,
      "metadata": {
        "id": "HBJRoN_pema4"
      },
      "outputs": [],
      "source": [
        "# Assuming your new DataFrame is named merged_df_hourly\n",
        "merged_df_hourly.to_csv(\"HourlyMergedData.csv\", index=False)"
      ]
    },
    {
      "cell_type": "code",
      "execution_count": null,
      "metadata": {
        "id": "hNDZeT9feoRc"
      },
      "outputs": [],
      "source": [
        "\n",
        "merged_df_hourly.columns"
      ]
    },
    {
      "cell_type": "markdown",
      "metadata": {
        "id": "58JIskYteoz-"
      },
      "source": [
        "## Wind capacity"
      ]
    },
    {
      "cell_type": "code",
      "execution_count": null,
      "metadata": {
        "id": "9FzDAzwpex5q"
      },
      "outputs": [],
      "source": [
        "import pandas as pd\n",
        "\n",
        "# Assuming the Excel file is uploaded as 'WindInstalledCapacities_MW_Monthly - Sheet1.xlsx'\n",
        "file_path = 'WindInstalledCapacities_MW_Month.csv'\n",
        "\n",
        "# Specify the engine as 'openpyxl' for reading Excel files\n",
        "windcap_df = pd.read_csv(file_path)\n",
        "\n",
        "\n",
        "# Display the first few rows of the DataFrame\n",
        "windcap_df.head()\n"
      ]
    },
    {
      "cell_type": "code",
      "execution_count": null,
      "metadata": {
        "id": "0e7l_uzBeziT"
      },
      "outputs": [],
      "source": [
        "windcapa_df.tail(10)"
      ]
    },
    {
      "cell_type": "code",
      "execution_count": null,
      "metadata": {
        "id": "zxUhBT5Ce1Lz"
      },
      "outputs": [],
      "source": [
        "print(windcap_df.columns)\n"
      ]
    },
    {
      "cell_type": "code",
      "execution_count": null,
      "metadata": {
        "id": "7m_dgBSUe2-0"
      },
      "outputs": [],
      "source": [
        "# Map abbreviated month names to numerical values\n",
        "month_mapping = {\n",
        "    'Jan': '01',\n",
        "    'Feb': '02',\n",
        "    'Mar': '03',\n",
        "    'Apr': '04',\n",
        "    'May': '05',\n",
        "    'Jun': '06',\n",
        "    'Jul': '07',\n",
        "    'Aug': '08',\n",
        "    'Sep': '09',\n",
        "    'Oct': '10',\n",
        "    'Nov': '11',\n",
        "    'Dec': '12'\n",
        "}\n",
        "\n",
        "# Create a new column 'date' by combining 'YYYY' and 'Month' columns\n",
        "windcap_df['date'] = windcap_df['YYYY'].astype(str) + '-' + windcap_df['Month'].map(month_mapping)\n",
        "\n",
        "# Display the first few rows of the DataFrame\n",
        "print(windcap_df.head())\n"
      ]
    },
    {
      "cell_type": "code",
      "execution_count": null,
      "metadata": {
        "id": "a96KBos_e414"
      },
      "outputs": [],
      "source": [
        "\n",
        "windcapa_P = '/content/WindInstalledCapacities_MW_Monthly - Sheet1 (1).csv'\n",
        "windcapa_df = pd.read_csv(windcapa_P, header=3, na_values=['-   ', \"  -   \"],\n",
        "                          skipinitialspace=True, thousands=\",\")"
      ]
    },
    {
      "cell_type": "code",
      "execution_count": null,
      "metadata": {
        "id": "Dhag8jMre6ik"
      },
      "outputs": [],
      "source": [
        "\n",
        "windcapa_df['day'] = \"01-\"\n",
        "windcapa_df['date'] = windcapa_df['day'] + windcapa_df['Month']\n"
      ]
    },
    {
      "cell_type": "code",
      "execution_count": null,
      "metadata": {
        "id": "IPRr4hgSe8SS"
      },
      "outputs": [],
      "source": [
        "windcapa_df['date'] = pd.to_datetime(windcapa_df['date'].str.replace('.Sept.', '-Sep-', regex=True), format=\"%d-%b-%Y\")"
      ]
    },
    {
      "cell_type": "code",
      "execution_count": null,
      "metadata": {
        "id": "Fstmdoede-ED"
      },
      "outputs": [],
      "source": [
        "windcapa_df.rename(columns={'Total.2' : 'TotalWindCapacityMW'}, inplace=True)"
      ]
    },
    {
      "cell_type": "markdown",
      "metadata": {
        "id": "x_29txJfe_p0"
      },
      "source": [
        "## Merge Wind capacity dataset with the hourly dataset"
      ]
    },
    {
      "cell_type": "code",
      "execution_count": null,
      "metadata": {
        "id": "fTEnVxGKe_zt"
      },
      "outputs": [],
      "source": [
        "\n",
        "left = merged_df_hourly.set_index(['date'])\n",
        "right = windcapa_df[['date', 'TotalWindCapacityMW']].set_index(['date'])\n",
        "merged_df_hourly_df = left.join(right)\n",
        "\n"
      ]
    },
    {
      "cell_type": "code",
      "execution_count": null,
      "metadata": {
        "id": "VwGEUsrWfOKU"
      },
      "outputs": [],
      "source": [
        "\n",
        "merged_df_hourly_df['TotalWindCapacityMW'].fillna(method='ffill', inplace=True)\n",
        "merged_df_hourly_df = merged_df_hourly_df.reset_index()\n",
        "merged_df_hourly_df.isnull().sum()"
      ]
    },
    {
      "cell_type": "code",
      "execution_count": null,
      "metadata": {
        "id": "zIZ85arufPto"
      },
      "outputs": [],
      "source": [
        "\n",
        "merged_df_hourly_df.to_csv(\"IslandElectricity2017_2021v4.csv\")"
      ]
    },
    {
      "cell_type": "code",
      "execution_count": null,
      "metadata": {
        "id": "TkDMMCP3fRjQ"
      },
      "outputs": [],
      "source": [
        "merged_df_hourly_df.columns"
      ]
    },
    {
      "cell_type": "markdown",
      "metadata": {
        "id": "dZTJbbXMfT8p"
      },
      "source": [
        "## EDA"
      ]
    },
    {
      "cell_type": "markdown",
      "metadata": {
        "id": "Y3YiBiUnnyl_"
      },
      "source": [
        "### Setting up EDA"
      ]
    },
    {
      "cell_type": "code",
      "execution_count": null,
      "metadata": {
        "id": "xlycVCWafV53"
      },
      "outputs": [],
      "source": [
        "import pandas as pd\n",
        "import matplotlib.pyplot as plt\n",
        "import seaborn as sns\n",
        "\n",
        "# GitHub URL to your CSV file\n",
        "github_url = 'https://raw.githubusercontent.com/KaylumCassidy/FYP/main/IslandElectricity2017_2021v4.csv'\n",
        "\n",
        "# Read the CSV file into a Pandas DataFrame\n",
        "merged_df_hourly_df = pd.read_csv(github_url)\n",
        "\n",
        "# Display the first few rows of the DataFrame to understand its structure\n",
        "print(merged_df_hourly_df.head())"
      ]
    },
    {
      "cell_type": "markdown",
      "metadata": {
        "id": "z_nsMFktfqD3"
      },
      "source": [
        "*Making Average cols*"
      ]
    },
    {
      "cell_type": "code",
      "execution_count": null,
      "metadata": {
        "id": "0URvOeoufeMt"
      },
      "outputs": [],
      "source": [
        "# Calculate average temperature across regions\n",
        "temperature_columns = ['wdsp_BEL', 'wdsp_DUB', 'wdsp_DON', 'wdsp', 'wdsp_GAL', 'wdsp_COR']\n",
        "merged_df_hourly_df['average_temp'] = merged_df_hourly_df[temperature_columns].mean(axis=1)\n",
        "\n",
        "# Calculate average wind speed across regions\n",
        "wind_speed_columns = ['wdsp_BEL', 'wdsp_DUB', 'wdsp_DON', 'wdsp', 'wdsp_GAL', 'wdsp_COR']\n",
        "merged_df_hourly_df['average_wind_speed'] = merged_df_hourly_df[wind_speed_columns].mean(axis=1)\n",
        "\n",
        "\n",
        "# Calculate average wind speed across regions\n",
        "wind_dir_columns = ['wddir_BEL', 'wddir_DUB', 'wddir_DON', 'wddir', 'wddir_GAL', 'wddir_DON']\n",
        "merged_df_hourly_df['average_wind_dir'] = merged_df_hourly_df[wind_dir_columns].mean(axis=1)\n",
        "\n",
        "merged_df_hourly_df.tail()"
      ]
    },
    {
      "cell_type": "markdown",
      "metadata": {
        "id": "8D8Qrt7qfw3P"
      },
      "source": [
        "*Making fuction do get wind direction in word e.g. north,west,east and south*"
      ]
    },
    {
      "cell_type": "code",
      "execution_count": null,
      "metadata": {
        "id": "t50-MflQfgLy"
      },
      "outputs": [],
      "source": [
        "def round_wind_direction(direction):\n",
        "    \"\"\"\n",
        "    Round wind direction to cardinal directions.\n",
        "\n",
        "    Parameters:\n",
        "    - direction (float): Wind direction in degrees.\n",
        "\n",
        "    Returns:\n",
        "    - str: Rounded cardinal direction.\n",
        "    \"\"\"\n",
        "    if direction is None or pd.isnull(direction):\n",
        "        return 'Unknown'\n",
        "\n",
        "    # Define directional ranges\n",
        "    directions = ['N', 'NE', 'E', 'SE', 'S', 'SW', 'W', 'NW', 'N']\n",
        "\n",
        "    # Convert the wind direction to degrees\n",
        "    direction_degrees = float(direction)\n",
        "\n",
        "    # Calculate the index based on the direction\n",
        "    index = round((direction_degrees % 360) / 45)\n",
        "\n",
        "    # Return the corresponding cardinal direction\n",
        "    return directions[index]\n",
        "\n",
        "# Example usage:\n",
        "merged_df_hourly_df['rounded_wind_direction'] = merged_df_hourly_df['average_wind_dir'].apply(round_wind_direction)"
      ]
    },
    {
      "cell_type": "code",
      "execution_count": null,
      "metadata": {
        "id": "ko1DV9UqfZsY"
      },
      "outputs": [],
      "source": [
        "# Check the available columns in the DataFrame\n",
        "print(\"Available Columns:\")\n",
        "print(merged_df_hourly_df.columns)"
      ]
    },
    {
      "cell_type": "code",
      "execution_count": null,
      "metadata": {
        "id": "9HhL3xLifk64"
      },
      "outputs": [],
      "source": [
        "merged_df_hourly_df.head()"
      ]
    },
    {
      "cell_type": "code",
      "execution_count": null,
      "metadata": {
        "id": "MblcvvhTf_6U"
      },
      "outputs": [],
      "source": [
        "merged_df_hourly_df.to_csv(\"IslandElectricity2017_2021v5.csv\")"
      ]
    },
    {
      "cell_type": "markdown",
      "metadata": {
        "id": "fqLTf4N-neOW"
      },
      "source": [
        "### Summary stats"
      ]
    },
    {
      "cell_type": "code",
      "execution_count": null,
      "metadata": {
        "id": "0Zcb1_Nqnee5"
      },
      "outputs": [],
      "source": [
        "\n",
        "columns_of_interest = ['date', 'Unnamed: 0', 'Year', 'Month', 'DayTime',\n",
        "       ' REGION', 'ActualDemandMW', ' FORECAST DEMAND(MW)', 'ForecastWndMW',\n",
        "       'ActualWindMW', 'ActualGenerationMW', 'NetTotal_MW', 'EWIC_MW',\n",
        "       'MOYLE_MW', 'hour', 'isweekday', 'month', 'year', 'rain_BEL',\n",
        "       'temp_BEL', 'wetb_BEL', 'dewpt_BEL', 'vappr_BEL', 'rhum_BEL', 'msl_BEL',\n",
        "       'wdsp_BEL', 'wddir_BEL', 'rain_DUB', 'temp_DUB', 'wetb_DUB',\n",
        "       'dewpt_DUB', 'vappr_DUB', 'rhum_DUB', 'msl_DUB', 'wdsp_DUB',\n",
        "       'wddir_DUB', 'ww', 'w', 'sun', 'vis', 'clht', 'clamt', 'rain', 'temp',\n",
        "       'wetb', 'dewpt', 'vappr', 'rhum', 'msl', 'wdsp', 'wddir', 'ww_SHA',\n",
        "       'w_SHA', 'sun_SHA', 'vis_SHA', 'clht_SHA', 'clamt_SHA', 'rain_COR',\n",
        "       'temp_COR', 'wetb_COR', 'dewpt_COR', 'vappr_COR', 'rhum_COR', 'msl_COR',\n",
        "       'wdsp_COR', 'wddir_COR', 'rain_GAL', 'temp_GAL', 'wetb_GAL',\n",
        "       'dewpt_GAL', 'vappr_GAL', 'rhum_GAL', 'msl_GAL', 'wdsp_GAL',\n",
        "       'wddir_GAL', 'ind_DON', 'rain_DON', 'ind.1_DON', 'temp_DON', 'wetb_DON',\n",
        "       'dewpt_DON', 'vappr_DON', 'rhum_DON', 'msl_DON', 'wdsp_DON',\n",
        "       'wddir_DON', 'TotalWindCapacityMW', 'average_temp',\n",
        "       'average_wind_speed', 'average_wind_dir', 'rounded_wind_direction']\n",
        "\n",
        "# Create a subset of the dataframe with selected columns\n",
        "subset_df = merged_df_hourly_df[columns_of_interest]\n",
        "\n",
        "# Display summary statistics\n",
        "summary_stats = subset_df.describe()\n",
        "print(\"Summary Statistics:\\n\", summary_stats)"
      ]
    },
    {
      "cell_type": "markdown",
      "metadata": {
        "id": "YgeMfek9mv-q"
      },
      "source": [
        "### Scatter"
      ]
    },
    {
      "cell_type": "code",
      "execution_count": null,
      "metadata": {
        "id": "4uK19beRmqNC"
      },
      "outputs": [],
      "source": [
        "\n",
        "import plotly.express as px\n",
        "\n",
        "fig = px.scatter(merged_df_hourly_df, x='date', y='ActualDemandMW')\n",
        "fig.show()\n"
      ]
    },
    {
      "cell_type": "code",
      "execution_count": null,
      "metadata": {
        "id": "TRux2NGAms9G"
      },
      "outputs": [],
      "source": [
        "fig2 = px.scatter(merged_df_hourly_df, x='hour', y='ActualDemandMW', color='month')\n",
        "fig2.show()\n"
      ]
    },
    {
      "cell_type": "markdown",
      "metadata": {
        "id": "9N3KeOk5m-O2"
      },
      "source": [
        "### LinePlot"
      ]
    },
    {
      "cell_type": "code",
      "execution_count": null,
      "metadata": {
        "id": "yOKGPaY2nFL8"
      },
      "outputs": [],
      "source": [
        "# Line plot for Actual Demand and Forecast Demand over Years\n",
        "plt.figure(figsize=(14, 6))\n",
        "sns.lineplot(x='Year', y='ForecastWndMW', data=merged_df_hourly_df, label='Actual Demand', color='blue')\n",
        "sns.lineplot(x='Year', y='ActualWindMW', data=merged_df_hourly_df, label='Forecast Demand', color='orange')\n",
        "plt.xlabel('Year')\n",
        "plt.ylabel('Demand (MW)')\n",
        "plt.title('Actual vs Forecast Demand Over Years')\n",
        "plt.legend()\n",
        "plt.show()"
      ]
    },
    {
      "cell_type": "code",
      "execution_count": null,
      "metadata": {
        "id": "uFzkNnpeoBHY"
      },
      "outputs": [],
      "source": [
        "plt.figure(figsize=(14, 6))\n",
        "sns.lineplot(x='Year', y='TotalWindCapacityMW', data=merged_df_hourly_df, color='green')\n",
        "plt.xlabel('Date')\n",
        "plt.ylabel('Total Wind Capacity (MW)')\n",
        "plt.title('Total Wind Capacity Over Time')\n",
        "plt.show()\n"
      ]
    },
    {
      "cell_type": "markdown",
      "metadata": {
        "id": "m7PQrdienBNy"
      },
      "source": [
        "### Box Plot"
      ]
    },
    {
      "cell_type": "code",
      "execution_count": null,
      "metadata": {
        "id": "GzmGqL25nFsy"
      },
      "outputs": [],
      "source": [
        "# Box plot of Actual Wind Energy Generation by Month\n",
        "plt.figure(figsize=(12, 6))\n",
        "sns.boxplot(x='Month', y='ActualWindMW', data=merged_df_hourly_df, palette='viridis')\n",
        "plt.xlabel('Month')\n",
        "plt.ylabel('Actual Wind Energy Generation (MW)')\n",
        "plt.title('Box Plot of Actual Wind Energy Generation by Month')\n",
        "plt.show()"
      ]
    },
    {
      "cell_type": "code",
      "execution_count": null,
      "metadata": {
        "id": "AEXZdj9ioIyH"
      },
      "outputs": [],
      "source": [
        "# Box plot of Actual Wind Energy Generation by Hour of the Day\n",
        "plt.figure(figsize=(12, 6))\n",
        "sns.boxplot(x='hour', y='ActualWindMW', data=merged_df_hourly_df, palette='muted')\n",
        "plt.xlabel('Hour of the Day')\n",
        "plt.ylabel('Actual Wind Energy Generation (MW)')\n",
        "plt.title('Box Plot of Actual Wind Energy Generation by Hour of the Day')\n",
        "plt.show()"
      ]
    },
    {
      "cell_type": "code",
      "execution_count": null,
      "metadata": {
        "id": "nw67486XoUzr"
      },
      "outputs": [],
      "source": [
        "# Box plot of average_wind_speed Generation by Hour of the Day\n",
        "plt.figure(figsize=(12, 6))\n",
        "sns.boxplot(x='hour', y='average_wind_speed', data=merged_df_hourly_df, palette='muted')\n",
        "plt.xlabel('Hour of the Day')\n",
        "plt.ylabel('Aaverage wind speed eveyr hour')\n",
        "plt.title('Box Plot of Actual Wind Energy Generation by Hour of the Day')\n",
        "plt.show()"
      ]
    },
    {
      "cell_type": "markdown",
      "metadata": {
        "id": "gnnzS8sWnEYE"
      },
      "source": [
        "### BarChart"
      ]
    },
    {
      "cell_type": "code",
      "execution_count": null,
      "metadata": {
        "id": "H-ceq6QMnJIU"
      },
      "outputs": [],
      "source": [
        "import seaborn as sns\n",
        "import matplotlib.pyplot as plt\n",
        "\n",
        "# Assuming 'windsp_BEL' and 'windsp_DUB' are the columns for wind speed in BEL and DUB regions\n",
        "# Replace these with the actual column names if they are different\n",
        "\n",
        "# Create a bar chart for average wind speed in BEL and DUB regions\n",
        "plt.figure(figsize=(10, 6))\n",
        "sns.barplot(x=['BEL', 'DUB'], y=[merged_df_hourly_df['wdsp_BEL'].mean(), merged_df_hourly_df['wdsp_DUB'].mean()], palette=\"viridis\")\n",
        "plt.title('Average Wind Speed in BEL and DUB Regions')\n",
        "plt.xlabel('Region')\n",
        "plt.ylabel('Average Wind Speed (kt)')\n",
        "plt.show()\n"
      ]
    },
    {
      "cell_type": "markdown",
      "metadata": {
        "id": "u8ZSrmLynJOe"
      },
      "source": [
        "### HeatMap"
      ]
    },
    {
      "cell_type": "code",
      "execution_count": null,
      "metadata": {
        "id": "o57qTdl3nQYP"
      },
      "outputs": [],
      "source": []
    },
    {
      "cell_type": "markdown",
      "metadata": {
        "id": "G0xwFOornQqO"
      },
      "source": [
        "### Violinplot"
      ]
    },
    {
      "cell_type": "code",
      "execution_count": null,
      "metadata": {
        "id": "umF2AXhRnQwz"
      },
      "outputs": [],
      "source": [
        "# Violin plot for Actual Wind Energy Generation by weekday\n",
        "plt.figure(figsize=(12, 6))\n",
        "sns.violinplot(x='isweekday', y='ActualWindMW', data=merged_df_hourly_df, palette='Set2')\n",
        "plt.xlabel('Weekday (1: Yes, 0: No)')\n",
        "plt.ylabel('Actual Wind Energy Generation (MW)')\n",
        "plt.title('Violin Plot of Actual Wind Energy Generation by Weekday')\n",
        "plt.show()"
      ]
    }
  ],
  "metadata": {
    "colab": {
      "collapsed_sections": [
        "p1Y2xADBY5Hm",
        "gHD3OzcQY-Ia",
        "GmXvHc8SZH7y",
        "9BYrzgtYbsjZ",
        "TpZto61xb_Na",
        "ptuchJt-cLlo",
        "5CDnZkBGdCKz",
        "JcbNdHvjdvyP",
        "jYkSu14TeIPn",
        "qOxXzmqJecTn",
        "58JIskYteoz-",
        "x_29txJfe_p0",
        "dZTJbbXMfT8p"
      ],
      "provenance": [],
      "authorship_tag": "ABX9TyOPiKUz3OYl+uPV1/MNPEAj",
      "include_colab_link": true
    },
    "kernelspec": {
      "display_name": "Python 3",
      "name": "python3"
    },
    "language_info": {
      "name": "python"
    }
  },
  "nbformat": 4,
  "nbformat_minor": 0
}